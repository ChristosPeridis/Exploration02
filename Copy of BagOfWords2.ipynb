{
 "cells": [
  {
   "cell_type": "markdown",
   "metadata": {
    "id": "dTtC3LRq67lL"
   },
   "source": [
    "#**How to Develop a Deep Learning Bag-of-Words Model for Sentiment Analysis (Text Classification)**\n",
    "\n",
    "**Original Source:** Jason Brownlee, [How to Develop a Deep Learning Bag-of-Words Model for Sentiment Analysis (Text Classification)](https://machinelearningmastery.com/deep-learning-bag-of-words-model-sentiment-analysis/), Available from [here](https://machinelearningmastery.com), accessed December 13, 2021.\n",
    "\n",
    "Movie reviews can be classified as either favorable or not.\n",
    "\n",
    "The evaluation of movie review text is a classification problem often called sentiment analysis. A popular technique for developing sentiment analysis models is to use a bag-of-words model that transforms documents into vectors where each word in the document is assigned a score.\n",
    "\n",
    "In this tutorial, you will discover how you can develop a deep learning predictive model using the bag-of-words representation for movie review sentiment classification.\n",
    "\n",
    "After completing this tutorial, you will know:\n",
    "\n",
    "- How to prepare the review text data for modeling with a restricted vocabulary.\n",
    "- How to use the bag-of-words model to prepare train and test data.\n",
    "- How to develop a multilayer Perceptron bag-of-words model and use it to make predictions on new review text data.\n",
    "\n",
    "**Tutorial Overview**\n",
    "\n",
    "This tutorial is divided into 4 parts; they are:\n",
    "\n",
    "1. Movie Review Dataset\n",
    "2. Data Preparation\n",
    "3. Bag-of-Words Representation\n",
    "4. Sentiment Analysis Models"
   ]
  },
  {
   "cell_type": "markdown",
   "metadata": {
    "id": "B0re9oF77b9Y"
   },
   "source": [
    "**Movie Review Dataset**\n",
    "\n",
    "The Movie Review Data is a collection of movie reviews retrieved from the imdb.com website in the early 2000s by Bo Pang and Lillian Lee. The reviews were collected and made available as part of their research on natural language processing.\n",
    "\n",
    "The dataset is comprised of 1,000 positive and 1,000 negative movie reviews drawn from an archive of the rec.arts.movies.reviews newsgroup hosted at imdb.com. The authors refer to this dataset as the “polarity dataset”.\n",
    "\n",
    "The data has been cleaned up somewhat, for example:\n",
    "\n",
    "- The dataset is comprised of only English reviews.\n",
    "- All text has been converted to lowercase.\n",
    "- There is white space around punctuation like periods, commas, and brackets.\n",
    "- Text has been split into one sentence per line.\n",
    "\n",
    "The data has been used for a few related natural language processing tasks. For classification, the performance of classical models (such as Support Vector Machines) on the data is in the range of high 70% to low 80% (e.g. 78%-82%).\n",
    "\n",
    "More sophisticated data preparation may see results as high as 86% with 10-fold cross validation. This gives us a ballpark of low-to-mid 80s if we were looking to use this dataset in experiments on modern methods.\n",
    "\n",
    "You can download the dataset from here:\n",
    "\n",
    "Movie Review Polarity Dataset (review_polarity.tar.gz, 3MB) https://raw.githubusercontent.com/jbrownlee/Datasets/master/review_polarity.tar.gz \n",
    "\n",
    "After unzipping the file, you will have a directory called “txt_sentoken” with two sub-directories containing the text “neg” and “pos” for negative and positive reviews. Reviews are stored one per file with a naming convention cv000 to cv999 for each neg and pos.\n",
    "\n",
    "Next, let’s look at loading and preparing the text data.\n",
    "\n",
    "**Data Preparation**\n",
    "\n",
    "In this section, we will look at 3 things:\n",
    "\n",
    "Separation of data into training and test sets.\n",
    "Loading and cleaning the data to remove punctuation and numbers.\n",
    "Defining a vocabulary of preferred words.\n",
    "\n",
    "**Split into Train and Test Sets**\n",
    "\n",
    "We are pretending that we are developing a system that can predict the sentiment of a textual movie review as either positive or negative.\n",
    "\n",
    "This means that after the model is developed, we will need to make predictions on new textual reviews. This will require all of the same data preparation to be performed on those new reviews as is performed on the training data for the model.\n",
    "\n",
    "We will ensure that this constraint is built into the evaluation of our models by splitting the training and test datasets prior to any data preparation. This means that any knowledge in the test set that could help us better prepare the data (e.g. the words used) is unavailable during the preparation of data and the training of the model.\n",
    "\n",
    "That being said, we will use the last 100 positive reviews and the last 100 negative reviews as a test set (100 reviews) and the remaining 1,800 reviews as the training dataset.\n",
    "\n",
    "This is a 90% train, 10% split of the data.\n",
    "\n",
    "The split can be imposed easily by using the filenames of the reviews where reviews named 000 to 899 are for training data and reviews named 900 onwards are for testing the model.\n",
    "\n",
    "**Loading and Cleaning Reviews**\n",
    "The text data is already pretty clean, so not much preparation is required.\n",
    "\n",
    "Without getting too much into the details, we will prepare the data using the following method:\n",
    "\n",
    "- Split tokens on white space.\n",
    "- Remove all punctuation from words.\n",
    "- Remove all words that are not purely comprised of alphabetical characters.\n",
    "- Remove all words that are known stop words.\n",
    "- Remove all words that have a length <= 1 character.\n",
    "\n",
    "We can put all of these steps into a function called clean_doc() that takes as an argument the raw text loaded from a file and returns a list of cleaned tokens. We can also define a function load_doc() that loads a document from file ready for use with the clean_doc() function.\n",
    "\n",
    "An example of cleaning the first positive review is listed below."
   ]
  },
  {
   "cell_type": "code",
   "execution_count": 1,
   "metadata": {
    "id": "vWpP9EwKCThh",
    "colab": {
     "base_uri": "https://localhost:8080/"
    },
    "executionInfo": {
     "status": "ok",
     "timestamp": 1646211070970,
     "user_tz": 0,
     "elapsed": 17396,
     "user": {
      "displayName": "Christos Peridis",
      "photoUrl": "https://lh3.googleusercontent.com/a/default-user=s64",
      "userId": "01158029486103406188"
     }
    },
    "outputId": "90cde1f8-77c2-4bdf-ceeb-773ff5562b8b"
   },
   "outputs": [
    {
     "output_type": "stream",
     "name": "stdout",
     "text": [
      "Mounted at /content/drive\n"
     ]
    }
   ],
   "source": [
    "from google.colab import drive\n",
    "drive.mount(\"/content/drive\")"
   ]
  },
  {
   "cell_type": "markdown",
   "metadata": {
    "id": "c6o_NcvZCb8p"
   },
   "source": [
    "Drive already mounted at /content/drive; to attempt to forcibly remount, call drive.mount(\"/content/drive\", force_remount=True)."
   ]
  },
  {
   "cell_type": "code",
   "execution_count": 2,
   "metadata": {
    "colab": {
     "base_uri": "https://localhost:8080/"
    },
    "executionInfo": {
     "elapsed": 754,
     "status": "ok",
     "timestamp": 1646211075041,
     "user": {
      "displayName": "Christos Peridis",
      "photoUrl": "https://lh3.googleusercontent.com/a/default-user=s64",
      "userId": "01158029486103406188"
     },
     "user_tz": 0
    },
    "id": "pNoz66gPCWO6",
    "outputId": "ed0fa87f-a2ed-4c33-f01e-511b30d16a3d"
   },
   "outputs": [
    {
     "output_type": "stream",
     "name": "stdout",
     "text": [
      "poldata.README.2.0  txt_sentoken\n"
     ]
    }
   ],
   "source": [
    "data_path = \"/content/drive/My Drive/Colab Notebooks/21COP509/LabDatasets/review_polarity/\"\n",
    "!ls \"/content/drive/My Drive/Colab Notebooks/21COP509/LabDatasets/review_polarity/\""
   ]
  },
  {
   "cell_type": "code",
   "execution_count": 3,
   "metadata": {
    "colab": {
     "base_uri": "https://localhost:8080/"
    },
    "executionInfo": {
     "elapsed": 5903,
     "status": "ok",
     "timestamp": 1646211108930,
     "user": {
      "displayName": "Christos Peridis",
      "photoUrl": "https://lh3.googleusercontent.com/a/default-user=s64",
      "userId": "01158029486103406188"
     },
     "user_tz": 0
    },
    "id": "38TvSvxP77co",
    "outputId": "b321db4b-041a-49a0-d6e8-9d183895f80d"
   },
   "outputs": [
    {
     "output_type": "stream",
     "name": "stdout",
     "text": [
      "[nltk_data] Downloading package stopwords to /root/nltk_data...\n",
      "[nltk_data]   Unzipping corpora/stopwords.zip.\n",
      "['films', 'adapted', 'comic', 'books', 'plenty', 'success', 'whether', 'theyre', 'superheroes', 'batman', 'superman', 'spawn', 'geared', 'toward', 'kids', 'casper', 'arthouse', 'crowd', 'ghost', 'world', 'theres', 'never', 'really', 'comic', 'book', 'like', 'hell', 'starters', 'created', 'alan', 'moore', 'eddie', 'campbell', 'brought', 'medium', 'whole', 'new', 'level', 'mid', 'series', 'called', 'watchmen', 'say', 'moore', 'campbell', 'thoroughly', 'researched', 'subject', 'jack', 'ripper', 'would', 'like', 'saying', 'michael', 'jackson', 'starting', 'look', 'little', 'odd', 'book', 'graphic', 'novel', 'pages', 'long', 'includes', 'nearly', 'consist', 'nothing', 'footnotes', 'words', 'dont', 'dismiss', 'film', 'source', 'get', 'past', 'whole', 'comic', 'book', 'thing', 'might', 'find', 'another', 'stumbling', 'block', 'hells', 'directors', 'albert', 'allen', 'hughes', 'getting', 'hughes', 'brothers', 'direct', 'seems', 'almost', 'ludicrous', 'casting', 'carrot', 'top', 'well', 'anything', 'riddle', 'better', 'direct', 'film', 'thats', 'set', 'ghetto', 'features', 'really', 'violent', 'street', 'crime', 'mad', 'geniuses', 'behind', 'menace', 'ii', 'society', 'ghetto', 'question', 'course', 'whitechapel', 'londons', 'east', 'end', 'filthy', 'sooty', 'place', 'whores', 'called', 'unfortunates', 'starting', 'get', 'little', 'nervous', 'mysterious', 'psychopath', 'carving', 'profession', 'surgical', 'precision', 'first', 'stiff', 'turns', 'copper', 'peter', 'godley', 'robbie', 'coltrane', 'world', 'enough', 'calls', 'inspector', 'frederick', 'abberline', 'johnny', 'depp', 'blow', 'crack', 'case', 'abberline', 'widower', 'prophetic', 'dreams', 'unsuccessfully', 'tries', 'quell', 'copious', 'amounts', 'absinthe', 'opium', 'upon', 'arriving', 'whitechapel', 'befriends', 'unfortunate', 'named', 'mary', 'kelly', 'heather', 'graham', 'say', 'isnt', 'proceeds', 'investigate', 'horribly', 'gruesome', 'crimes', 'even', 'police', 'surgeon', 'cant', 'stomach', 'dont', 'think', 'anyone', 'needs', 'briefed', 'jack', 'ripper', 'wont', 'go', 'particulars', 'say', 'moore', 'campbell', 'unique', 'interesting', 'theory', 'identity', 'killer', 'reasons', 'chooses', 'slay', 'comic', 'dont', 'bother', 'cloaking', 'identity', 'ripper', 'screenwriters', 'terry', 'hayes', 'vertical', 'limit', 'rafael', 'yglesias', 'les', 'mis', 'rables', 'good', 'job', 'keeping', 'hidden', 'viewers', 'end', 'funny', 'watch', 'locals', 'blindly', 'point', 'finger', 'blame', 'jews', 'indians', 'englishman', 'could', 'never', 'capable', 'committing', 'ghastly', 'acts', 'hells', 'ending', 'whistling', 'stonecutters', 'song', 'simpsons', 'days', 'holds', 'back', 'electric', 'carwho', 'made', 'steve', 'guttenberg', 'star', 'dont', 'worry', 'itll', 'make', 'sense', 'see', 'onto', 'hells', 'appearance', 'certainly', 'dark', 'bleak', 'enough', 'surprising', 'see', 'much', 'looks', 'like', 'tim', 'burton', 'film', 'planet', 'apes', 'times', 'seems', 'like', 'sleepy', 'hollow', 'print', 'saw', 'wasnt', 'completely', 'finished', 'color', 'music', 'finalized', 'comments', 'marilyn', 'manson', 'cinematographer', 'peter', 'deming', 'dont', 'say', 'word', 'ably', 'captures', 'dreariness', 'victorianera', 'london', 'helped', 'make', 'flashy', 'killing', 'scenes', 'remind', 'crazy', 'flashbacks', 'twin', 'peaks', 'even', 'though', 'violence', 'film', 'pales', 'comparison', 'blackandwhite', 'comic', 'oscar', 'winner', 'martin', 'childs', 'shakespeare', 'love', 'production', 'design', 'turns', 'original', 'prague', 'surroundings', 'one', 'creepy', 'place', 'even', 'acting', 'hell', 'solid', 'dreamy', 'depp', 'turning', 'typically', 'strong', 'performance', 'deftly', 'handling', 'british', 'accent', 'ians', 'holm', 'joe', 'goulds', 'secret', 'richardson', 'dalmatians', 'log', 'great', 'supporting', 'roles', 'big', 'surprise', 'graham', 'cringed', 'first', 'time', 'opened', 'mouth', 'imagining', 'attempt', 'irish', 'accent', 'actually', 'wasnt', 'half', 'bad', 'film', 'however', 'good', 'strong', 'violencegore', 'sexuality', 'language', 'drug', 'content']\n"
     ]
    }
   ],
   "source": [
    "from nltk.corpus import stopwords\n",
    "import string\n",
    "import nltk\n",
    "nltk.download('stopwords')\n",
    "\n",
    "# load doc into memory\n",
    "def load_doc(filename):\n",
    "\t# open the file as read only\n",
    "\tfile = open(filename, 'r')\n",
    "\t# read all text\n",
    "\ttext = file.read()\n",
    "\t# close the file\n",
    "\tfile.close()\n",
    "\treturn text\n",
    "\n",
    "# turn a doc into clean tokens\n",
    "def clean_doc(doc):\n",
    "\t# split into tokens by white space\n",
    "\ttokens = doc.split()\n",
    "\t# remove punctuation from each token\n",
    "\ttable = str.maketrans('', '', string.punctuation)\n",
    "\ttokens = [w.translate(table) for w in tokens]\n",
    "\t# remove remaining tokens that are not alphabetic\n",
    "\ttokens = [word for word in tokens if word.isalpha()]\n",
    "\t# filter out stop words\n",
    "\tstop_words = set(stopwords.words('english'))\n",
    "\ttokens = [w for w in tokens if not w in stop_words]\n",
    "\t# filter out short tokens\n",
    "\ttokens = [word for word in tokens if len(word) > 1]\n",
    "\treturn tokens\n",
    "\n",
    "# load the document\n",
    "filename = data_path + 'txt_sentoken/pos/cv000_29590.txt'\n",
    "text = load_doc(filename)\n",
    "tokens = clean_doc(text)\n",
    "print(tokens)"
   ]
  },
  {
   "cell_type": "markdown",
   "metadata": {
    "id": "0QxCAsAD784P"
   },
   "source": [
    "Running the example prints a long list of clean tokens.\n",
    "\n",
    "There are many more cleaning steps we may want to explore, and I leave them as further exercises. I’d love to see what you can come up with."
   ]
  },
  {
   "cell_type": "code",
   "execution_count": null,
   "metadata": {
    "id": "pI6SfRvq79s_",
    "colab": {
     "base_uri": "https://localhost:8080/",
     "height": 190
    },
    "executionInfo": {
     "status": "error",
     "timestamp": 1644517722392,
     "user_tz": 0,
     "elapsed": 336,
     "user": {
      "displayName": "Georgina Cosma",
      "photoUrl": "https://lh3.googleusercontent.com/a/default-user=s64",
      "userId": "07229142217144311559"
     }
    },
    "outputId": "e926d780-e6b9-4d2e-ce46-4b6362150291"
   },
   "outputs": [
    {
     "output_type": "error",
     "ename": "SyntaxError",
     "evalue": "ignored",
     "traceback": [
      "\u001B[0;36m  File \u001B[0;32m\"<ipython-input-4-f2aff8c1795e>\"\u001B[0;36m, line \u001B[0;32m2\u001B[0m\n\u001B[0;31m    'creepy', 'place', 'even', 'acting', 'hell', 'solid', 'dreamy', 'depp', 'turning', 'typically', 'strong', 'performance', 'deftly', 'handling', 'british', 'accent', 'ians', 'holm', 'joe', 'goulds', 'secret', 'richardson', 'dalmatians', 'log', 'great', 'supporting', 'roles', 'big', 'surprise', 'graham', 'cringed', 'first', 'time', 'opened', 'mouth', 'imagining', 'attempt', 'irish', 'accent', 'actually', 'wasnt', 'half', 'bad', 'film', 'however', 'good', 'strong', 'violencegore', 'sexuality', 'language', 'drug', 'content']\u001B[0m\n\u001B[0m                                                                                                                                                                                                                                                                                                                                                                                                                                                                                                                                                ^\u001B[0m\n\u001B[0;31mSyntaxError\u001B[0m\u001B[0;31m:\u001B[0m invalid syntax\n"
     ]
    }
   ],
   "source": [
    "...\n",
    "'creepy', 'place', 'even', 'acting', 'hell', 'solid', 'dreamy', 'depp', 'turning', 'typically', 'strong', 'performance', 'deftly', 'handling', 'british', 'accent', 'ians', 'holm', 'joe', 'goulds', 'secret', 'richardson', 'dalmatians', 'log', 'great', 'supporting', 'roles', 'big', 'surprise', 'graham', 'cringed', 'first', 'time', 'opened', 'mouth', 'imagining', 'attempt', 'irish', 'accent', 'actually', 'wasnt', 'half', 'bad', 'film', 'however', 'good', 'strong', 'violencegore', 'sexuality', 'language', 'drug', 'content']"
   ]
  },
  {
   "cell_type": "markdown",
   "metadata": {
    "id": "RwiY2k047_6o"
   },
   "source": [
    "#**Define a Vocabulary**\n",
    "\n",
    "It is important to define a vocabulary of known words when using a bag-of-words model.\n",
    "\n",
    "The more words, the larger the representation of documents, therefore it is important to constrain the words to only those believed to be predictive. This is difficult to know beforehand and often it is important to test different hypotheses about how to construct a useful vocabulary.\n",
    "\n",
    "We have already seen how we can remove punctuation and numbers from the vocabulary in the previous section. We can repeat this for all documents and build a set of all known words.\n",
    "\n",
    "We can develop a vocabulary as a Counter, which is a dictionary mapping of words and their count that allows us to easily update and query.\n",
    "\n",
    "Each document can be added to the counter (a new function called add_doc_to_vocab()) and we can step over all of the reviews in the negative directory and then the positive directory (a new function called process_docs()).\n",
    "\n",
    "The complete example is listed below."
   ]
  },
  {
   "cell_type": "code",
   "execution_count": 4,
   "metadata": {
    "id": "75USpH9f8A8X",
    "executionInfo": {
     "status": "ok",
     "timestamp": 1646211142819,
     "user_tz": 0,
     "elapsed": 29346,
     "user": {
      "displayName": "Christos Peridis",
      "photoUrl": "https://lh3.googleusercontent.com/a/default-user=s64",
      "userId": "01158029486103406188"
     }
    },
    "outputId": "9a7c8a30-c5ba-4066-d179-4c2e82f4028b",
    "colab": {
     "base_uri": "https://localhost:8080/"
    }
   },
   "outputs": [
    {
     "output_type": "stream",
     "name": "stdout",
     "text": [
      "44276\n",
      "[('film', 7983), ('one', 4946), ('movie', 4826), ('like', 3201), ('even', 2262), ('good', 2080), ('time', 2041), ('story', 1907), ('films', 1873), ('would', 1844), ('much', 1824), ('also', 1757), ('characters', 1735), ('get', 1724), ('character', 1703), ('two', 1643), ('first', 1588), ('see', 1557), ('way', 1515), ('well', 1511), ('make', 1418), ('really', 1407), ('little', 1351), ('life', 1334), ('plot', 1288), ('people', 1269), ('could', 1248), ('bad', 1248), ('scene', 1241), ('movies', 1238), ('never', 1201), ('best', 1179), ('new', 1140), ('scenes', 1135), ('man', 1131), ('many', 1130), ('doesnt', 1118), ('know', 1092), ('dont', 1086), ('hes', 1024), ('great', 1014), ('another', 992), ('action', 985), ('love', 977), ('us', 967), ('go', 952), ('director', 948), ('end', 946), ('something', 945), ('still', 936)]\n"
     ]
    }
   ],
   "source": [
    "from string import punctuation\n",
    "from os import listdir\n",
    "from collections import Counter\n",
    "from nltk.corpus import stopwords\n",
    "\n",
    "# load doc into memory\n",
    "def load_doc(filename):\n",
    "\t# open the file as read only\n",
    "\tfile = open(filename, 'r')\n",
    "\t# read all text\n",
    "\ttext = file.read()\n",
    "\t# close the file\n",
    "\tfile.close()\n",
    "\treturn text\n",
    "\n",
    "# turn a doc into clean tokens\n",
    "def clean_doc(doc):\n",
    "\t# split into tokens by white space\n",
    "\ttokens = doc.split()\n",
    "\t# remove punctuation from each token\n",
    "\ttable = str.maketrans('', '', punctuation)\n",
    "\ttokens = [w.translate(table) for w in tokens]\n",
    "\t# remove remaining tokens that are not alphabetic\n",
    "\ttokens = [word for word in tokens if word.isalpha()]\n",
    "\t# filter out stop words\n",
    "\tstop_words = set(stopwords.words('english'))\n",
    "\ttokens = [w for w in tokens if not w in stop_words]\n",
    "\t# filter out short tokens\n",
    "\ttokens = [word for word in tokens if len(word) > 1]\n",
    "\treturn tokens\n",
    "\n",
    "# load doc and add to vocab\n",
    "def add_doc_to_vocab(filename, vocab):\n",
    "\t# load doc\n",
    "\tdoc = load_doc(filename)\n",
    "\t# clean doc\n",
    "\ttokens = clean_doc(doc)\n",
    "\t# update counts\n",
    "\tvocab.update(tokens)\n",
    "\n",
    "# load all docs in a directory\n",
    "def process_docs(directory, vocab):\n",
    "\t# walk through all files in the folder\n",
    "\tfor filename in listdir(directory):\n",
    "\t\t# skip any reviews in the test set\n",
    "\t\tif filename.startswith('cv9'):\n",
    "\t\t\tcontinue\n",
    "\t\t# create the full path of the file to open\n",
    "\t\tpath = directory + '/' + filename\n",
    "\t\t# add doc to vocab\n",
    "\t\tadd_doc_to_vocab(path, vocab)\n",
    "\n",
    "# define vocab\n",
    "vocab = Counter()\n",
    "# add all docs to vocab\n",
    "process_docs(data_path + 'txt_sentoken/pos', vocab)\n",
    "process_docs(data_path + 'txt_sentoken/neg', vocab)\n",
    "# print the size of the vocab\n",
    "print(len(vocab))\n",
    "# print the top words in the vocab\n",
    "print(vocab.most_common(50))"
   ]
  },
  {
   "cell_type": "markdown",
   "metadata": {
    "id": "sUKKMmyK8CZP"
   },
   "source": [
    "Running the example shows that we have a vocabulary of 44,276 words.\n",
    "\n",
    "We also can see a sample of the top 50 most used words in the movie reviews.\n",
    "\n",
    "Note that this vocabulary was constructed based on only those reviews in the training dataset.\n",
    "\n"
   ]
  },
  {
   "cell_type": "code",
   "execution_count": null,
   "metadata": {
    "id": "raLCRzrQ8Cw_"
   },
   "outputs": [],
   "source": [
    "44276\n",
    "[('film', 7983), ('one', 4946), ('movie', 4826), ('like', 3201), ('even', 2262), ('good', 2080), ('time', 2041), ('story', 1907), ('films', 1873), ('would', 1844), ('much', 1824), ('also', 1757), ('characters', 1735), ('get', 1724), ('character', 1703), ('two', 1643), ('first', 1588), ('see', 1557), ('way', 1515), ('well', 1511), ('make', 1418), ('really', 1407), ('little', 1351), ('life', 1334), ('plot', 1288), ('people', 1269), ('could', 1248), ('bad', 1248), ('scene', 1241), ('movies', 1238), ('never', 1201), ('best', 1179), ('new', 1140), ('scenes', 1135), ('man', 1131), ('many', 1130), ('doesnt', 1118), ('know', 1092), ('dont', 1086), ('hes', 1024), ('great', 1014), ('another', 992), ('action', 985), ('love', 977), ('us', 967), ('go', 952), ('director', 948), ('end', 946), ('something', 945), ('still', 936)]"
   ]
  },
  {
   "cell_type": "markdown",
   "metadata": {
    "id": "6oGl-WmY8FLH"
   },
   "source": [
    "We can step through the vocabulary and remove all words that have a low occurrence, such as only being used once or twice in all reviews.\n",
    "\n",
    "For example, the following snippet will retrieve only the tokens that appear 2 or more times in all reviews."
   ]
  },
  {
   "cell_type": "code",
   "execution_count": 5,
   "metadata": {
    "id": "bWbyw_rC8GPH",
    "executionInfo": {
     "status": "ok",
     "timestamp": 1646211189235,
     "user_tz": 0,
     "elapsed": 210,
     "user": {
      "displayName": "Christos Peridis",
      "photoUrl": "https://lh3.googleusercontent.com/a/default-user=s64",
      "userId": "01158029486103406188"
     }
    },
    "outputId": "ab7dff8c-4d84-47af-81c3-47fe7e497c6a",
    "colab": {
     "base_uri": "https://localhost:8080/"
    }
   },
   "outputs": [
    {
     "output_type": "stream",
     "name": "stdout",
     "text": [
      "25767\n"
     ]
    }
   ],
   "source": [
    "# keep tokens with a min occurrence\n",
    "min_occurane = 2\n",
    "tokens = [k for k,c in vocab.items() if c >= min_occurane]\n",
    "print(len(tokens))"
   ]
  },
  {
   "cell_type": "markdown",
   "metadata": {
    "id": "wzjlec4t8Hr3"
   },
   "source": [
    "Running the above example with this addition shows that the vocabulary size drops by a little more than half its size, from 44,276 to 25,767 words.\n",
    "\n"
   ]
  },
  {
   "cell_type": "code",
   "execution_count": null,
   "metadata": {
    "id": "xdsSWhCfDgKW"
   },
   "outputs": [],
   "source": [
    "25767"
   ]
  },
  {
   "cell_type": "markdown",
   "metadata": {
    "id": "Ljgy7CM6DhKk"
   },
   "source": [
    "Finally, the vocabulary can be saved to a new file called vocab.txt that we can later load and use to filter movie reviews prior to encoding them for modeling. We define a new function called save_list() that saves the vocabulary to file, with one word per file.\n",
    "\n",
    "For example:"
   ]
  },
  {
   "cell_type": "code",
   "execution_count": 6,
   "metadata": {
    "id": "v1ypv8mIDjR1",
    "executionInfo": {
     "status": "ok",
     "timestamp": 1646211225769,
     "user_tz": 0,
     "elapsed": 212,
     "user": {
      "displayName": "Christos Peridis",
      "photoUrl": "https://lh3.googleusercontent.com/a/default-user=s64",
      "userId": "01158029486103406188"
     }
    }
   },
   "outputs": [],
   "source": [
    "# save list to file\n",
    "def save_list(lines, filename):\n",
    "\t# convert lines to a single blob of text\n",
    "\tdata = '\\n'.join(lines)\n",
    "\t# open file\n",
    "\tfile = open(filename, 'w')\n",
    "\t# write text\n",
    "\tfile.write(data)\n",
    "\t# close file\n",
    "\tfile.close()\n",
    "\n",
    "# save tokens to a vocabulary file\n",
    "save_list(tokens, 'vocab.txt')"
   ]
  },
  {
   "cell_type": "markdown",
   "metadata": {
    "id": "1kjh_fzADim0"
   },
   "source": [
    "Running the min occurrence filter on the vocabulary and saving it to file, you should now have a new file called vocab.txt with only the words we are interested in.\n",
    "\n",
    "The order of words in your file will differ, but should look something like the following:"
   ]
  },
  {
   "cell_type": "code",
   "execution_count": null,
   "metadata": {
    "id": "z8xg9cNADnmM"
   },
   "outputs": [],
   "source": [
    "aberdeen\n",
    "dupe\n",
    "burt\n",
    "libido\n",
    "hamlet\n",
    "arlene\n",
    "available\n",
    "corners\n",
    "web\n",
    "columbia\n",
    "..."
   ]
  },
  {
   "cell_type": "markdown",
   "metadata": {
    "id": "rcKQlkKvDw_N"
   },
   "source": [
    "We are now ready to look at extracting features from the reviews ready for modeling.\n",
    "\n"
   ]
  },
  {
   "cell_type": "markdown",
   "metadata": {
    "id": "Z9YtyAZODzS8"
   },
   "source": [
    "#**Bag-of-Words Representation**\n",
    "\n",
    "In this section, we will look at how we can convert each review into a representation that we can provide to a Multilayer Perceptron model.\n",
    "\n",
    "A bag-of-words model is a way of extracting features from text so the text input can be used with machine learning algorithms like neural networks.\n",
    "\n",
    "Each document, in this case a review, is converted into a vector representation. The number of items in the vector representing a document corresponds to the number of words in the vocabulary. The larger the vocabulary, the longer the vector representation, hence the preference for smaller vocabularies in the previous section.\n",
    "\n",
    "Words in a document are scored and the scores are placed in the corresponding location in the representation. We will look at different word scoring methods in the next section.\n",
    "\n",
    "In this section, we are concerned with converting reviews into vectors ready for training a first neural network model.\n",
    "\n",
    "This section is divided into 2 steps:\n",
    "\n",
    "1. Converting reviews to lines of tokens.\n",
    "2. Encoding reviews with a bag-of-words model representation.\n",
    "\n",
    "#**Reviews to Lines of Tokens**\n",
    "\n",
    "Before we can convert reviews to vectors for modeling, we must first clean them up.\n",
    "\n",
    "This involves loading them, performing the cleaning operation developed above, filtering out words not in the chosen vocabulary, and converting the remaining tokens into a single string or line ready for encoding.\n",
    "\n",
    "First, we need a function to prepare one document. Below lists the function doc_to_line() that will load a document, clean it, filter out tokens not in the vocabulary, then return the document as a string of white space separated tokens."
   ]
  },
  {
   "cell_type": "code",
   "execution_count": 7,
   "metadata": {
    "id": "pwe60KXWD858",
    "executionInfo": {
     "status": "ok",
     "timestamp": 1646211349852,
     "user_tz": 0,
     "elapsed": 216,
     "user": {
      "displayName": "Christos Peridis",
      "photoUrl": "https://lh3.googleusercontent.com/a/default-user=s64",
      "userId": "01158029486103406188"
     }
    }
   },
   "outputs": [],
   "source": [
    "# load doc, clean and return line of tokens\n",
    "def doc_to_line(filename, vocab):\n",
    "\t# load the doc\n",
    "\tdoc = load_doc(filename)\n",
    "\t# clean doc\n",
    "\ttokens = clean_doc(doc)\n",
    "\t# filter by vocab\n",
    "\ttokens = [w for w in tokens if w in vocab]\n",
    "\treturn ' '.join(tokens)"
   ]
  },
  {
   "cell_type": "markdown",
   "metadata": {
    "id": "hnFGaeP4D_VU"
   },
   "source": [
    "Next, we need a function to work through all documents in a directory (such as ‘pos‘ and ‘neg‘) to convert the documents into lines.\n",
    "\n",
    "Below lists the process_docs() function that does just this, expecting a directory name and a vocabulary set as input arguments and returning a list of processed documents."
   ]
  },
  {
   "cell_type": "code",
   "execution_count": 8,
   "metadata": {
    "id": "NKc7lfr6D-ts",
    "executionInfo": {
     "status": "ok",
     "timestamp": 1646211364569,
     "user_tz": 0,
     "elapsed": 220,
     "user": {
      "displayName": "Christos Peridis",
      "photoUrl": "https://lh3.googleusercontent.com/a/default-user=s64",
      "userId": "01158029486103406188"
     }
    }
   },
   "outputs": [],
   "source": [
    "# load all docs in a directory\n",
    "def process_docs(directory, vocab):\n",
    "\tlines = list()\n",
    "\t# walk through all files in the folder\n",
    "\tfor filename in listdir(directory):\n",
    "\t\t# skip any reviews in the test set\n",
    "\t\tif filename.startswith('cv9'):\n",
    "\t\t\tcontinue\n",
    "\t\t# create the full path of the file to open\n",
    "\t\tpath = directory + '/' + filename\n",
    "\t\t# load and clean the doc\n",
    "\t\tline = doc_to_line(path, vocab)\n",
    "\t\t# add to list\n",
    "\t\tlines.append(line)\n",
    "\treturn lines"
   ]
  },
  {
   "cell_type": "markdown",
   "metadata": {
    "id": "DoTcCIjPEBsU"
   },
   "source": [
    "Finally, we need to load the vocabulary and turn it into a set for use in cleaning reviews.\n",
    "\n"
   ]
  },
  {
   "cell_type": "code",
   "execution_count": 9,
   "metadata": {
    "id": "QE_aXANJEDGl",
    "executionInfo": {
     "status": "ok",
     "timestamp": 1646211404459,
     "user_tz": 0,
     "elapsed": 222,
     "user": {
      "displayName": "Christos Peridis",
      "photoUrl": "https://lh3.googleusercontent.com/a/default-user=s64",
      "userId": "01158029486103406188"
     }
    }
   },
   "outputs": [],
   "source": [
    "# load the vocabulary\n",
    "vocab_filename = 'vocab.txt'\n",
    "vocab = load_doc(vocab_filename)\n",
    "vocab = vocab.split()\n",
    "vocab = set(vocab)"
   ]
  },
  {
   "cell_type": "markdown",
   "metadata": {
    "id": "MFpckIgdEGDM"
   },
   "source": [
    "We can put all of this together, reusing the loading and cleaning functions developed in previous sections.\n",
    "\n",
    "The complete example is listed below, demonstrating how to prepare the positive and negative reviews from the training dataset."
   ]
  },
  {
   "cell_type": "code",
   "execution_count": 10,
   "metadata": {
    "id": "taBkXA-hEJvk",
    "executionInfo": {
     "status": "ok",
     "timestamp": 1646211416717,
     "user_tz": 0,
     "elapsed": 7642,
     "user": {
      "displayName": "Christos Peridis",
      "photoUrl": "https://lh3.googleusercontent.com/a/default-user=s64",
      "userId": "01158029486103406188"
     }
    },
    "outputId": "33d89a98-d5d5-4e55-f726-419bf6cd79a2",
    "colab": {
     "base_uri": "https://localhost:8080/"
    }
   },
   "outputs": [
    {
     "output_type": "stream",
     "name": "stdout",
     "text": [
      "900 900\n"
     ]
    }
   ],
   "source": [
    "from string import punctuation\n",
    "from os import listdir\n",
    "from collections import Counter\n",
    "from nltk.corpus import stopwords\n",
    "\n",
    "# load doc into memory\n",
    "def load_doc(filename):\n",
    "\t# open the file as read only\n",
    "\tfile = open(filename, 'r')\n",
    "\t# read all text\n",
    "\ttext = file.read()\n",
    "\t# close the file\n",
    "\tfile.close()\n",
    "\treturn text\n",
    "\n",
    "# turn a doc into clean tokens\n",
    "def clean_doc(doc):\n",
    "\t# split into tokens by white space\n",
    "\ttokens = doc.split()\n",
    "\t# remove punctuation from each token\n",
    "\ttable = str.maketrans('', '', punctuation)\n",
    "\ttokens = [w.translate(table) for w in tokens]\n",
    "\t# remove remaining tokens that are not alphabetic\n",
    "\ttokens = [word for word in tokens if word.isalpha()]\n",
    "\t# filter out stop words\n",
    "\tstop_words = set(stopwords.words('english'))\n",
    "\ttokens = [w for w in tokens if not w in stop_words]\n",
    "\t# filter out short tokens\n",
    "\ttokens = [word for word in tokens if len(word) > 1]\n",
    "\treturn tokens\n",
    "\n",
    "# load doc, clean and return line of tokens\n",
    "def doc_to_line(filename, vocab):\n",
    "\t# load the doc\n",
    "\tdoc = load_doc(filename)\n",
    "\t# clean doc\n",
    "\ttokens = clean_doc(doc)\n",
    "\t# filter by vocab\n",
    "\ttokens = [w for w in tokens if w in vocab]\n",
    "\treturn ' '.join(tokens)\n",
    "\n",
    "# load all docs in a directory\n",
    "def process_docs(directory, vocab):\n",
    "\tlines = list()\n",
    "\t# walk through all files in the folder\n",
    "\tfor filename in listdir(directory):\n",
    "\t\t# skip any reviews in the test set\n",
    "\t\tif filename.startswith('cv9'):\n",
    "\t\t\tcontinue\n",
    "\t\t# create the full path of the file to open\n",
    "\t\tpath = directory + '/' + filename\n",
    "\t\t# load and clean the doc\n",
    "\t\tline = doc_to_line(path, vocab)\n",
    "\t\t# add to list\n",
    "\t\tlines.append(line)\n",
    "\treturn lines\n",
    "\n",
    "# load the vocabulary\n",
    "vocab_filename = 'vocab.txt'\n",
    "vocab = load_doc(vocab_filename)\n",
    "vocab = vocab.split()\n",
    "vocab = set(vocab)\n",
    "# load all training reviews\n",
    "positive_lines = process_docs(data_path + 'txt_sentoken/pos', vocab)\n",
    "negative_lines = process_docs(data_path + 'txt_sentoken/neg', vocab)\n",
    "# summarize what we have\n",
    "print(len(positive_lines), len(negative_lines))"
   ]
  },
  {
   "cell_type": "markdown",
   "metadata": {
    "id": "iNrklDyVEHT8"
   },
   "source": [
    "#**Movie Reviews to Bag-of-Words Vectors**\n",
    "\n",
    "We will use the Keras API to convert reviews to encoded document vectors.\n",
    "\n",
    "Keras provides the Tokenize class that can do some of the cleaning and vocab definition tasks that we took care of in the previous section.\n",
    "\n",
    "It is better to do this ourselves to know exactly what was done and why. Nevertheless, the Tokenizer class is convenient and will easily transform documents into encoded vectors.\n",
    "\n",
    "First, the Tokenizer must be created, then fit on the text documents in the training dataset.\n",
    "\n",
    "In this case, these are the aggregation of the positive_lines and negative_lines arrays developed in the previous section."
   ]
  },
  {
   "cell_type": "code",
   "execution_count": 11,
   "metadata": {
    "id": "pbJkB3ojEXEk",
    "executionInfo": {
     "status": "ok",
     "timestamp": 1646211510078,
     "user_tz": 0,
     "elapsed": 3482,
     "user": {
      "displayName": "Christos Peridis",
      "photoUrl": "https://lh3.googleusercontent.com/a/default-user=s64",
      "userId": "01158029486103406188"
     }
    }
   },
   "outputs": [],
   "source": [
    "from tensorflow.keras.preprocessing.text import Tokenizer\n",
    "\n",
    "# create the tokenizer\n",
    "tokenizer = Tokenizer()\n",
    "# fit the tokenizer on the documents\n",
    "docs = positive_lines + negative_lines\n",
    "tokenizer.fit_on_texts(docs)"
   ]
  },
  {
   "cell_type": "markdown",
   "metadata": {
    "id": "jXDRjsqyEZA2"
   },
   "source": [
    "This process determines a consistent way to convert the vocabulary to a fixed-length vector with 25,768 elements, which is the total number of words in the vocabulary file vocab.txt.\n",
    "\n",
    "Next, documents can then be encoded using the Tokenizer by calling texts_to_matrix(). The function takes both a list of documents to encode and an encoding mode, which is the method used to score words in the document. Here we specify ‘freq‘ to score words based on their frequency in the document.\n",
    "\n",
    "This can be used to encode the training data, for example:\n",
    "\n"
   ]
  },
  {
   "cell_type": "code",
   "execution_count": 12,
   "metadata": {
    "id": "HMbwZQLAEbBU",
    "executionInfo": {
     "status": "ok",
     "timestamp": 1646211814540,
     "user_tz": 0,
     "elapsed": 1145,
     "user": {
      "displayName": "Christos Peridis",
      "photoUrl": "https://lh3.googleusercontent.com/a/default-user=s64",
      "userId": "01158029486103406188"
     }
    },
    "outputId": "875bf83c-4327-49b0-e3f8-e4427f5efeb8",
    "colab": {
     "base_uri": "https://localhost:8080/"
    }
   },
   "outputs": [
    {
     "output_type": "stream",
     "name": "stdout",
     "text": [
      "(1800, 25768)\n"
     ]
    }
   ],
   "source": [
    "# encode training data set\n",
    "Xtrain = tokenizer.texts_to_matrix(docs, mode='freq')\n",
    "print(Xtrain.shape)"
   ]
  },
  {
   "cell_type": "markdown",
   "metadata": {
    "id": "PL9d64FOEcS8"
   },
   "source": [
    "This encodes all of the positive and negative reviews in the training dataset and prints the shape of the resulting matrix as 1,800 documents each with the length of 25,768 elements. It is ready to use as training data for a model.\n",
    "\n"
   ]
  },
  {
   "cell_type": "code",
   "execution_count": null,
   "metadata": {
    "id": "DfZIasv-EYQ9"
   },
   "outputs": [],
   "source": [
    "(1800, 25768)"
   ]
  },
  {
   "cell_type": "markdown",
   "metadata": {
    "id": "wo-00EHYEh0k"
   },
   "source": [
    "We can encode the test data in a similar way.\n",
    "\n",
    "First, the process_docs() function from the previous section needs to be modified to only process reviews in the test dataset, not the training dataset.\n",
    "\n",
    "We support the loading of both the training and test datasets by adding an is_trian argument and using that to decide what review file names to skip."
   ]
  },
  {
   "cell_type": "code",
   "execution_count": 13,
   "metadata": {
    "id": "qg4cz4ycEi88",
    "executionInfo": {
     "status": "ok",
     "timestamp": 1646211890173,
     "user_tz": 0,
     "elapsed": 208,
     "user": {
      "displayName": "Christos Peridis",
      "photoUrl": "https://lh3.googleusercontent.com/a/default-user=s64",
      "userId": "01158029486103406188"
     }
    }
   },
   "outputs": [],
   "source": [
    "# load all docs in a directory\n",
    "def process_docs(directory, vocab, is_trian):\n",
    "\tlines = list()\n",
    "\t# walk through all files in the folder\n",
    "\tfor filename in listdir(directory):\n",
    "\t\t# skip any reviews in the test set\n",
    "\t\tif is_trian and filename.startswith('cv9'):\n",
    "\t\t\tcontinue\n",
    "\t\tif not is_trian and not filename.startswith('cv9'):\n",
    "\t\t\tcontinue\n",
    "\t\t# create the full path of the file to open\n",
    "\t\tpath = directory + '/' + filename\n",
    "\t\t# load and clean the doc\n",
    "\t\tline = doc_to_line(path, vocab)\n",
    "\t\t# add to list\n",
    "\t\tlines.append(line)\n",
    "\treturn lines"
   ]
  },
  {
   "cell_type": "markdown",
   "metadata": {
    "id": "cf1FMgo2Ekc0"
   },
   "source": [
    "Next, we can load and encode positive and negative reviews in the test set in the same way as we did for the training set.\n",
    "\n"
   ]
  },
  {
   "cell_type": "code",
   "execution_count": 14,
   "metadata": {
    "id": "81lU5Xc2Elxk",
    "executionInfo": {
     "status": "ok",
     "timestamp": 1646211903472,
     "user_tz": 0,
     "elapsed": 1125,
     "user": {
      "displayName": "Christos Peridis",
      "photoUrl": "https://lh3.googleusercontent.com/a/default-user=s64",
      "userId": "01158029486103406188"
     }
    },
    "outputId": "dee886a6-da01-4b1c-b6cb-2bfe66c495f2",
    "colab": {
     "base_uri": "https://localhost:8080/"
    }
   },
   "outputs": [
    {
     "output_type": "stream",
     "name": "stdout",
     "text": [
      "(200, 25768)\n"
     ]
    }
   ],
   "source": [
    "...\n",
    "# load all test reviews\n",
    "positive_lines = process_docs(data_path + 'txt_sentoken/pos', vocab, False)\n",
    "negative_lines = process_docs(data_path + 'txt_sentoken/neg', vocab, False)\n",
    "docs = negative_lines + positive_lines\n",
    "# encode training data set\n",
    "Xtest = tokenizer.texts_to_matrix(docs, mode='freq')\n",
    "print(Xtest.shape)"
   ]
  },
  {
   "cell_type": "markdown",
   "metadata": {
    "id": "qHgPl3tTEn3k"
   },
   "source": [
    "We can put all of this together in a single example.\n",
    "\n"
   ]
  },
  {
   "cell_type": "code",
   "execution_count": 15,
   "metadata": {
    "id": "RHnJ53PJEo21",
    "executionInfo": {
     "status": "ok",
     "timestamp": 1646211915518,
     "user_tz": 0,
     "elapsed": 7558,
     "user": {
      "displayName": "Christos Peridis",
      "photoUrl": "https://lh3.googleusercontent.com/a/default-user=s64",
      "userId": "01158029486103406188"
     }
    },
    "outputId": "4dde654c-6920-4d07-dbb6-50eba2cf010c",
    "colab": {
     "base_uri": "https://localhost:8080/"
    }
   },
   "outputs": [
    {
     "output_type": "stream",
     "name": "stdout",
     "text": [
      "(1800, 25768)\n",
      "(200, 25768)\n"
     ]
    }
   ],
   "source": [
    "from string import punctuation\n",
    "from os import listdir\n",
    "from collections import Counter\n",
    "from nltk.corpus import stopwords\n",
    "from tensorflow.keras.preprocessing.text import Tokenizer\n",
    "\n",
    "# load doc into memory\n",
    "def load_doc(filename):\n",
    "\t# open the file as read only\n",
    "\tfile = open(filename, 'r')\n",
    "\t# read all text\n",
    "\ttext = file.read()\n",
    "\t# close the file\n",
    "\tfile.close()\n",
    "\treturn text\n",
    "\n",
    "# turn a doc into clean tokens\n",
    "def clean_doc(doc):\n",
    "\t# split into tokens by white space\n",
    "\ttokens = doc.split()\n",
    "\t# remove punctuation from each token\n",
    "\ttable = str.maketrans('', '', punctuation)\n",
    "\ttokens = [w.translate(table) for w in tokens]\n",
    "\t# remove remaining tokens that are not alphabetic\n",
    "\ttokens = [word for word in tokens if word.isalpha()]\n",
    "\t# filter out stop words\n",
    "\tstop_words = set(stopwords.words('english'))\n",
    "\ttokens = [w for w in tokens if not w in stop_words]\n",
    "\t# filter out short tokens\n",
    "\ttokens = [word for word in tokens if len(word) > 1]\n",
    "\treturn tokens\n",
    "\n",
    "# load doc, clean and return line of tokens\n",
    "def doc_to_line(filename, vocab):\n",
    "\t# load the doc\n",
    "\tdoc = load_doc(filename)\n",
    "\t# clean doc\n",
    "\ttokens = clean_doc(doc)\n",
    "\t# filter by vocab\n",
    "\ttokens = [w for w in tokens if w in vocab]\n",
    "\treturn ' '.join(tokens)\n",
    "\n",
    "# load all docs in a directory\n",
    "def process_docs(directory, vocab, is_trian):\n",
    "\tlines = list()\n",
    "\t# walk through all files in the folder\n",
    "\tfor filename in listdir(directory):\n",
    "\t\t# skip any reviews in the test set\n",
    "\t\tif is_trian and filename.startswith('cv9'):\n",
    "\t\t\tcontinue\n",
    "\t\tif not is_trian and not filename.startswith('cv9'):\n",
    "\t\t\tcontinue\n",
    "\t\t# create the full path of the file to open\n",
    "\t\tpath = directory + '/' + filename\n",
    "\t\t# load and clean the doc\n",
    "\t\tline = doc_to_line(path, vocab)\n",
    "\t\t# add to list\n",
    "\t\tlines.append(line)\n",
    "\treturn lines\n",
    "\n",
    "# load the vocabulary\n",
    "vocab_filename = 'vocab.txt'\n",
    "vocab = load_doc(vocab_filename)\n",
    "vocab = vocab.split()\n",
    "vocab = set(vocab)\n",
    "\n",
    "# load all training reviews\n",
    "positive_lines = process_docs(data_path + 'txt_sentoken/pos', vocab, True)\n",
    "negative_lines = process_docs(data_path + 'txt_sentoken/neg', vocab, True)\n",
    "\n",
    "# create the tokenizer\n",
    "tokenizer = Tokenizer()\n",
    "# fit the tokenizer on the documents\n",
    "docs = negative_lines + positive_lines\n",
    "tokenizer.fit_on_texts(docs)\n",
    "\n",
    "# encode training data set\n",
    "Xtrain = tokenizer.texts_to_matrix(docs, mode='freq')\n",
    "print(Xtrain.shape)\n",
    "\n",
    "# load all test reviews\n",
    "positive_lines = process_docs(data_path + 'txt_sentoken/pos', vocab, False)\n",
    "negative_lines = process_docs(data_path + 'txt_sentoken/neg', vocab, False)\n",
    "docs = negative_lines + positive_lines\n",
    "# encode training data set\n",
    "Xtest = tokenizer.texts_to_matrix(docs, mode='freq')\n",
    "print(Xtest.shape)"
   ]
  },
  {
   "cell_type": "markdown",
   "metadata": {
    "id": "Gw5cal_tEqTu"
   },
   "source": [
    "Running the example prints both the shape of the encoded training dataset and test dataset with 1,800 and 200 documents respectively, each with the same sized encoding vocabulary (vector length).\n",
    "\n"
   ]
  },
  {
   "cell_type": "code",
   "execution_count": null,
   "metadata": {
    "id": "D7OpqO37ErC9"
   },
   "outputs": [],
   "source": [
    "(1800, 25768)\n",
    "(200, 25768)"
   ]
  },
  {
   "cell_type": "markdown",
   "metadata": {
    "id": "G20lF79ZEtT9"
   },
   "source": [
    "#**Sentiment Analysis Models**\n",
    "\n",
    "In this section, we will develop Multilayer Perceptron (MLP) models to classify encoded documents as either positive or negative.\n",
    "\n",
    "The models will be simple feedforward network models with fully connected layers called Dense in the Keras deep learning library.\n",
    "\n",
    "This section is divided into 3 sections:\n",
    "\n",
    "1. First sentiment analysis model\n",
    "2. Comparing word scoring modes\n",
    "3. Making a prediction for new reviews"
   ]
  },
  {
   "cell_type": "markdown",
   "metadata": {
    "id": "_iPmQM8f4X4Y"
   },
   "source": [
    "##**First Sentiment Analysis Model**\n",
    "\n",
    "We can develop a simple MLP model to predict the sentiment of encoded reviews.\n",
    "\n",
    "The model will have an input layer that equals the number of words in the vocabulary, and in turn the length of the input documents.\n",
    "\n",
    "We can store this in a new variable called n_words, as follows:"
   ]
  },
  {
   "cell_type": "code",
   "execution_count": 16,
   "metadata": {
    "id": "-NEnbW7bEvdt",
    "executionInfo": {
     "status": "ok",
     "timestamp": 1646212090481,
     "user_tz": 0,
     "elapsed": 237,
     "user": {
      "displayName": "Christos Peridis",
      "photoUrl": "https://lh3.googleusercontent.com/a/default-user=s64",
      "userId": "01158029486103406188"
     }
    }
   },
   "outputs": [],
   "source": [
    "n_words = Xtest.shape[1]"
   ]
  },
  {
   "cell_type": "markdown",
   "metadata": {
    "id": "X8-1zm6pExIl"
   },
   "source": [
    "We also need class labels for all of the training and test review data. We loaded and encoded these the reviews deterministically (negative, then positive), so we can specify the labels directly, as follows:"
   ]
  },
  {
   "cell_type": "code",
   "execution_count": 17,
   "metadata": {
    "id": "fHuNffvNEyXN",
    "executionInfo": {
     "status": "ok",
     "timestamp": 1646212092078,
     "user_tz": 0,
     "elapsed": 205,
     "user": {
      "displayName": "Christos Peridis",
      "photoUrl": "https://lh3.googleusercontent.com/a/default-user=s64",
      "userId": "01158029486103406188"
     }
    }
   },
   "outputs": [],
   "source": [
    "from numpy import array\n",
    "\n",
    "ytrain = array([0 for _ in range(900)] + [1 for _ in range(900)])\n",
    "ytest = array([0 for _ in range(100)] + [1 for _ in range(100)])"
   ]
  },
  {
   "cell_type": "markdown",
   "metadata": {
    "id": "PgF58sAPEx1U"
   },
   "source": [
    "We can now define the network.\n",
    "\n",
    "All model configuration was found with very little trial and error and should not be considered tuned for this problem.\n",
    "\n",
    "We will use a single hidden layer with 50 neurons and a rectified linear activation function. The output layer is a single neuron with a sigmoid activation function for predicting 0 for negative and 1 for positive reviews.\n",
    "\n",
    "The network will be trained using the efficient Adam implementation of gradient descent and the binary cross entropy loss function, suited to binary classification problems. We will keep track of accuracy when training and evaluating the model."
   ]
  },
  {
   "cell_type": "code",
   "execution_count": 18,
   "metadata": {
    "id": "u4ASWrQCE10t",
    "executionInfo": {
     "status": "ok",
     "timestamp": 1646212180184,
     "user_tz": 0,
     "elapsed": 511,
     "user": {
      "displayName": "Christos Peridis",
      "photoUrl": "https://lh3.googleusercontent.com/a/default-user=s64",
      "userId": "01158029486103406188"
     }
    }
   },
   "outputs": [],
   "source": [
    "from tensorflow.keras.preprocessing.text import Tokenizer\n",
    "from tensorflow.keras.models import Sequential\n",
    "from tensorflow.keras.layers import Dense\n",
    "from tensorflow.keras.layers import Dropout\n",
    "\n",
    "# define network\n",
    "model = Sequential()\n",
    "model.add(Dense(50, input_shape=(n_words,), activation='relu'))\n",
    "model.add(Dense(1, activation='sigmoid'))\n",
    "# compile network\n",
    "model.compile(loss='binary_crossentropy', optimizer='adam', metrics=['accuracy'])"
   ]
  },
  {
   "cell_type": "markdown",
   "metadata": {
    "id": "pD_rHAxIE4Rs"
   },
   "source": [
    "Next, we can fit the model on the training data; in this case, the model is small and is easily fit in 50 epochs.\n",
    "\n"
   ]
  },
  {
   "cell_type": "code",
   "execution_count": 19,
   "metadata": {
    "id": "2XOzcL7FE5Dl",
    "executionInfo": {
     "status": "ok",
     "timestamp": 1646212227225,
     "user_tz": 0,
     "elapsed": 38958,
     "user": {
      "displayName": "Christos Peridis",
      "photoUrl": "https://lh3.googleusercontent.com/a/default-user=s64",
      "userId": "01158029486103406188"
     }
    },
    "outputId": "d8f38889-5488-413f-e3dd-988fc3fc94e4",
    "colab": {
     "base_uri": "https://localhost:8080/"
    }
   },
   "outputs": [
    {
     "output_type": "stream",
     "name": "stdout",
     "text": [
      "Epoch 1/50\n",
      "57/57 - 1s - loss: 0.6918 - accuracy: 0.5656 - 1s/epoch - 26ms/step\n",
      "Epoch 2/50\n",
      "57/57 - 1s - loss: 0.6830 - accuracy: 0.7522 - 743ms/epoch - 13ms/step\n",
      "Epoch 3/50\n",
      "57/57 - 1s - loss: 0.6661 - accuracy: 0.8561 - 745ms/epoch - 13ms/step\n",
      "Epoch 4/50\n",
      "57/57 - 1s - loss: 0.6404 - accuracy: 0.9094 - 733ms/epoch - 13ms/step\n",
      "Epoch 5/50\n",
      "57/57 - 1s - loss: 0.6079 - accuracy: 0.9256 - 739ms/epoch - 13ms/step\n",
      "Epoch 6/50\n",
      "57/57 - 1s - loss: 0.5703 - accuracy: 0.9306 - 732ms/epoch - 13ms/step\n",
      "Epoch 7/50\n",
      "57/57 - 1s - loss: 0.5294 - accuracy: 0.9489 - 742ms/epoch - 13ms/step\n",
      "Epoch 8/50\n",
      "57/57 - 1s - loss: 0.4870 - accuracy: 0.9517 - 751ms/epoch - 13ms/step\n",
      "Epoch 9/50\n",
      "57/57 - 1s - loss: 0.4465 - accuracy: 0.9550 - 752ms/epoch - 13ms/step\n",
      "Epoch 10/50\n",
      "57/57 - 1s - loss: 0.4065 - accuracy: 0.9617 - 751ms/epoch - 13ms/step\n",
      "Epoch 11/50\n",
      "57/57 - 1s - loss: 0.3697 - accuracy: 0.9694 - 719ms/epoch - 13ms/step\n",
      "Epoch 12/50\n",
      "57/57 - 1s - loss: 0.3360 - accuracy: 0.9756 - 739ms/epoch - 13ms/step\n",
      "Epoch 13/50\n",
      "57/57 - 1s - loss: 0.3053 - accuracy: 0.9744 - 736ms/epoch - 13ms/step\n",
      "Epoch 14/50\n",
      "57/57 - 1s - loss: 0.2763 - accuracy: 0.9828 - 753ms/epoch - 13ms/step\n",
      "Epoch 15/50\n",
      "57/57 - 1s - loss: 0.2509 - accuracy: 0.9850 - 737ms/epoch - 13ms/step\n",
      "Epoch 16/50\n",
      "57/57 - 1s - loss: 0.2282 - accuracy: 0.9861 - 725ms/epoch - 13ms/step\n",
      "Epoch 17/50\n",
      "57/57 - 1s - loss: 0.2082 - accuracy: 0.9883 - 742ms/epoch - 13ms/step\n",
      "Epoch 18/50\n",
      "57/57 - 1s - loss: 0.1892 - accuracy: 0.9917 - 750ms/epoch - 13ms/step\n",
      "Epoch 19/50\n",
      "57/57 - 1s - loss: 0.1723 - accuracy: 0.9922 - 744ms/epoch - 13ms/step\n",
      "Epoch 20/50\n",
      "57/57 - 1s - loss: 0.1580 - accuracy: 0.9928 - 765ms/epoch - 13ms/step\n",
      "Epoch 21/50\n",
      "57/57 - 1s - loss: 0.1439 - accuracy: 0.9944 - 760ms/epoch - 13ms/step\n",
      "Epoch 22/50\n",
      "57/57 - 1s - loss: 0.1315 - accuracy: 0.9961 - 735ms/epoch - 13ms/step\n",
      "Epoch 23/50\n",
      "57/57 - 1s - loss: 0.1208 - accuracy: 0.9956 - 751ms/epoch - 13ms/step\n",
      "Epoch 24/50\n",
      "57/57 - 1s - loss: 0.1108 - accuracy: 0.9983 - 768ms/epoch - 13ms/step\n",
      "Epoch 25/50\n",
      "57/57 - 1s - loss: 0.1016 - accuracy: 0.9983 - 755ms/epoch - 13ms/step\n",
      "Epoch 26/50\n",
      "57/57 - 1s - loss: 0.0937 - accuracy: 0.9983 - 741ms/epoch - 13ms/step\n",
      "Epoch 27/50\n",
      "57/57 - 1s - loss: 0.0863 - accuracy: 0.9983 - 760ms/epoch - 13ms/step\n",
      "Epoch 28/50\n",
      "57/57 - 1s - loss: 0.0794 - accuracy: 0.9994 - 779ms/epoch - 14ms/step\n",
      "Epoch 29/50\n",
      "57/57 - 1s - loss: 0.0734 - accuracy: 0.9994 - 750ms/epoch - 13ms/step\n",
      "Epoch 30/50\n",
      "57/57 - 1s - loss: 0.0678 - accuracy: 1.0000 - 755ms/epoch - 13ms/step\n",
      "Epoch 31/50\n",
      "57/57 - 1s - loss: 0.0631 - accuracy: 1.0000 - 757ms/epoch - 13ms/step\n",
      "Epoch 32/50\n",
      "57/57 - 1s - loss: 0.0586 - accuracy: 1.0000 - 754ms/epoch - 13ms/step\n",
      "Epoch 33/50\n",
      "57/57 - 1s - loss: 0.0542 - accuracy: 1.0000 - 746ms/epoch - 13ms/step\n",
      "Epoch 34/50\n",
      "57/57 - 1s - loss: 0.0502 - accuracy: 1.0000 - 736ms/epoch - 13ms/step\n",
      "Epoch 35/50\n",
      "57/57 - 1s - loss: 0.0468 - accuracy: 1.0000 - 748ms/epoch - 13ms/step\n",
      "Epoch 36/50\n",
      "57/57 - 1s - loss: 0.0436 - accuracy: 1.0000 - 767ms/epoch - 13ms/step\n",
      "Epoch 37/50\n",
      "57/57 - 1s - loss: 0.0408 - accuracy: 1.0000 - 804ms/epoch - 14ms/step\n",
      "Epoch 38/50\n",
      "57/57 - 1s - loss: 0.0380 - accuracy: 1.0000 - 755ms/epoch - 13ms/step\n",
      "Epoch 39/50\n",
      "57/57 - 1s - loss: 0.0355 - accuracy: 1.0000 - 747ms/epoch - 13ms/step\n",
      "Epoch 40/50\n",
      "57/57 - 1s - loss: 0.0332 - accuracy: 1.0000 - 750ms/epoch - 13ms/step\n",
      "Epoch 41/50\n",
      "57/57 - 1s - loss: 0.0311 - accuracy: 1.0000 - 770ms/epoch - 14ms/step\n",
      "Epoch 42/50\n",
      "57/57 - 1s - loss: 0.0292 - accuracy: 1.0000 - 740ms/epoch - 13ms/step\n",
      "Epoch 43/50\n",
      "57/57 - 1s - loss: 0.0273 - accuracy: 1.0000 - 752ms/epoch - 13ms/step\n",
      "Epoch 44/50\n",
      "57/57 - 1s - loss: 0.0257 - accuracy: 1.0000 - 759ms/epoch - 13ms/step\n",
      "Epoch 45/50\n",
      "57/57 - 1s - loss: 0.0242 - accuracy: 1.0000 - 732ms/epoch - 13ms/step\n",
      "Epoch 46/50\n",
      "57/57 - 1s - loss: 0.0227 - accuracy: 1.0000 - 757ms/epoch - 13ms/step\n",
      "Epoch 47/50\n",
      "57/57 - 1s - loss: 0.0214 - accuracy: 1.0000 - 743ms/epoch - 13ms/step\n",
      "Epoch 48/50\n",
      "57/57 - 1s - loss: 0.0202 - accuracy: 1.0000 - 753ms/epoch - 13ms/step\n",
      "Epoch 49/50\n",
      "57/57 - 1s - loss: 0.0190 - accuracy: 1.0000 - 749ms/epoch - 13ms/step\n",
      "Epoch 50/50\n",
      "57/57 - 1s - loss: 0.0179 - accuracy: 1.0000 - 745ms/epoch - 13ms/step\n"
     ]
    },
    {
     "output_type": "execute_result",
     "data": {
      "text/plain": [
       "<keras.callbacks.History at 0x7f4356d4dd90>"
      ]
     },
     "metadata": {},
     "execution_count": 19
    }
   ],
   "source": [
    "# fit network\n",
    "model.fit(Xtrain, ytrain, epochs=50, verbose=2)"
   ]
  },
  {
   "cell_type": "markdown",
   "metadata": {
    "id": "qHFBEzS-E65t"
   },
   "source": [
    "Finally, once the model is trained, we can evaluate its performance by making predictions in the test dataset and printing the accuracy.\n",
    "\n"
   ]
  },
  {
   "cell_type": "code",
   "execution_count": 20,
   "metadata": {
    "id": "y2GJMZ2qE7zU",
    "executionInfo": {
     "status": "ok",
     "timestamp": 1646212234422,
     "user_tz": 0,
     "elapsed": 811,
     "user": {
      "displayName": "Christos Peridis",
      "photoUrl": "https://lh3.googleusercontent.com/a/default-user=s64",
      "userId": "01158029486103406188"
     }
    },
    "outputId": "9156506e-633c-4029-a90b-73112b63e0ce",
    "colab": {
     "base_uri": "https://localhost:8080/"
    }
   },
   "outputs": [
    {
     "output_type": "stream",
     "name": "stdout",
     "text": [
      "Test Accuracy: 91.000003\n"
     ]
    }
   ],
   "source": [
    "# evaluate\n",
    "loss, acc = model.evaluate(Xtest, ytest, verbose=0)\n",
    "print('Test Accuracy: %f' % (acc*100))"
   ]
  },
  {
   "cell_type": "markdown",
   "metadata": {
    "id": "hK1jb4p-E9vE"
   },
   "source": [
    "The complete example is listed below.\n",
    "\n"
   ]
  },
  {
   "cell_type": "code",
   "execution_count": null,
   "metadata": {
    "id": "BIMP0myKE-i8"
   },
   "outputs": [],
   "source": [
    "from numpy import array\n",
    "from string import punctuation\n",
    "from os import listdir\n",
    "from collections import Counter\n",
    "from nltk.corpus import stopwords\n",
    "from tensorflow.keras.preprocessing.text import Tokenizer\n",
    "from tensorflow.keras.models import Sequential\n",
    "from tensorflow.keras.layers import Dense\n",
    "from tensorflow.keras.layers import Dropout\n",
    "\n",
    "# load doc into memory\n",
    "def load_doc(filename):\n",
    "\t# open the file as read only\n",
    "\tfile = open(filename, 'r')\n",
    "\t# read all text\n",
    "\ttext = file.read()\n",
    "\t# close the file\n",
    "\tfile.close()\n",
    "\treturn text\n",
    "\n",
    "# turn a doc into clean tokens\n",
    "def clean_doc(doc):\n",
    "\t# split into tokens by white space\n",
    "\ttokens = doc.split()\n",
    "\t# remove punctuation from each token\n",
    "\ttable = str.maketrans('', '', punctuation)\n",
    "\ttokens = [w.translate(table) for w in tokens]\n",
    "\t# remove remaining tokens that are not alphabetic\n",
    "\ttokens = [word for word in tokens if word.isalpha()]\n",
    "\t# filter out stop words\n",
    "\tstop_words = set(stopwords.words('english'))\n",
    "\ttokens = [w for w in tokens if not w in stop_words]\n",
    "\t# filter out short tokens\n",
    "\ttokens = [word for word in tokens if len(word) > 1]\n",
    "\treturn tokens\n",
    "\n",
    "# load doc, clean and return line of tokens\n",
    "def doc_to_line(filename, vocab):\n",
    "\t# load the doc\n",
    "\tdoc = load_doc(filename)\n",
    "\t# clean doc\n",
    "\ttokens = clean_doc(doc)\n",
    "\t# filter by vocab\n",
    "\ttokens = [w for w in tokens if w in vocab]\n",
    "\treturn ' '.join(tokens)\n",
    "\n",
    "# load all docs in a directory\n",
    "def process_docs(directory, vocab, is_trian):\n",
    "\tlines = list()\n",
    "\t# walk through all files in the folder\n",
    "\tfor filename in listdir(directory):\n",
    "\t\t# skip any reviews in the test set\n",
    "\t\tif is_trian and filename.startswith('cv9'):\n",
    "\t\t\tcontinue\n",
    "\t\tif not is_trian and not filename.startswith('cv9'):\n",
    "\t\t\tcontinue\n",
    "\t\t# create the full path of the file to open\n",
    "\t\tpath = directory + '/' + filename\n",
    "\t\t# load and clean the doc\n",
    "\t\tline = doc_to_line(path, vocab)\n",
    "\t\t# add to list\n",
    "\t\tlines.append(line)\n",
    "\treturn lines\n",
    "\n",
    "# load the vocabulary\n",
    "vocab_filename = 'vocab.txt'\n",
    "vocab = load_doc(vocab_filename)\n",
    "vocab = vocab.split()\n",
    "vocab = set(vocab)\n",
    "# load all training reviews\n",
    "positive_lines = process_docs(data_path + 'txt_sentoken/pos', vocab, True)\n",
    "negative_lines = process_docs(data_path + 'txt_sentoken/neg', vocab, True)\n",
    "# create the tokenizer\n",
    "tokenizer = Tokenizer()\n",
    "# fit the tokenizer on the documents\n",
    "docs = negative_lines + positive_lines\n",
    "tokenizer.fit_on_texts(docs)\n",
    "# encode training data set\n",
    "Xtrain = tokenizer.texts_to_matrix(docs, mode='freq')\n",
    "ytrain = array([0 for _ in range(900)] + [1 for _ in range(900)])\n",
    "\n",
    "# load all test reviews\n",
    "positive_lines = process_docs(data_path + 'txt_sentoken/pos', vocab, False)\n",
    "negative_lines = process_docs(data_path + 'txt_sentoken/neg', vocab, False)\n",
    "docs = negative_lines + positive_lines\n",
    "# encode training data set\n",
    "Xtest = tokenizer.texts_to_matrix(docs, mode='freq')\n",
    "ytest = array([0 for _ in range(100)] + [1 for _ in range(100)])\n",
    "\n",
    "n_words = Xtest.shape[1]\n",
    "# define network\n",
    "model = Sequential()\n",
    "model.add(Dense(50, input_shape=(n_words,), activation='relu'))\n",
    "model.add(Dense(1, activation='sigmoid'))\n",
    "# compile network\n",
    "model.compile(loss='binary_crossentropy', optimizer='adam', metrics=['accuracy'])\n",
    "# fit network\n",
    "model.fit(Xtrain, ytrain, epochs=50, verbose=2)\n",
    "# evaluate\n",
    "loss, acc = model.evaluate(Xtest, ytest, verbose=0)\n",
    "print('Test Accuracy: %f' % (acc*100))"
   ]
  },
  {
   "cell_type": "markdown",
   "metadata": {
    "id": "IA5vOkmkFAA1"
   },
   "source": [
    "Note: Your results may vary given the stochastic nature of the algorithm or evaluation procedure, or differences in numerical precision. Consider running the example a few times and compare the average outcome.\n",
    "\n",
    "Running the example, we can see that the model easily fits the training data within the 50 epochs, achieving 100% accuracy.\n",
    "\n",
    "Evaluating the model on the test dataset, we can see that model does well, achieving an accuracy of above 90%, well within the ballpark of low-to-mid 80s seen in the original paper.\n",
    "\n",
    "Although, it is important to note that this is not an apples-to-apples comparison, as the original paper used 10-fold cross-validation to estimate model skill instead of a single train/test split."
   ]
  },
  {
   "cell_type": "code",
   "execution_count": null,
   "metadata": {
    "id": "bYXpAscHFA9F"
   },
   "outputs": [],
   "source": [
    "...\n",
    "Epoch 46/50\n",
    "0s - loss: 0.0167 - acc: 1.0000\n",
    "Epoch 47/50\n",
    "0s - loss: 0.0157 - acc: 1.0000\n",
    "Epoch 48/50\n",
    "0s - loss: 0.0148 - acc: 1.0000\n",
    "Epoch 49/50\n",
    "0s - loss: 0.0140 - acc: 1.0000\n",
    "Epoch 50/50\n",
    "0s - loss: 0.0132 - acc: 1.0000\n",
    "\n",
    "Test Accuracy: 91.000000"
   ]
  },
  {
   "cell_type": "markdown",
   "metadata": {
    "id": "VrMNQANnFCP9"
   },
   "source": [
    "Next, let’s look at testing different word scoring methods for the bag-of-words model.\n",
    "\n",
    "##**Comparing Word Scoring Methods**\n",
    "\n",
    "The texts_to_matrix() function for the Tokenizer in the Keras API provides 4 different methods for scoring words; they are:\n",
    "\n",
    "- “binary” Where words are marked as present (1) or absent (0).\n",
    "- “count” Where the occurrence count for each word is marked as an integer.\n",
    "- “tfidf” Where each word is scored based on their frequency, where words that are common across all documents are penalized.\n",
    "- “freq” Where words are scored based on their frequency of occurrence within the document.\n",
    "\n",
    "We can evaluate the skill of the model developed in the previous section fit using each of the 4 supported word scoring modes.\n",
    "\n",
    "This first involves the development of a function to create an encoding of the loaded documents based on a chosen scoring model. The function creates the tokenizer, fits it on the training documents, then creates the train and test encodings using the chosen model. The function prepare_data() implements this behavior given lists of train and test documents."
   ]
  },
  {
   "cell_type": "code",
   "execution_count": 21,
   "metadata": {
    "id": "WA6JKobqFDGc",
    "executionInfo": {
     "status": "ok",
     "timestamp": 1646212327968,
     "user_tz": 0,
     "elapsed": 211,
     "user": {
      "displayName": "Christos Peridis",
      "photoUrl": "https://lh3.googleusercontent.com/a/default-user=s64",
      "userId": "01158029486103406188"
     }
    }
   },
   "outputs": [],
   "source": [
    "# prepare bag of words encoding of docs\n",
    "def prepare_data(train_docs, test_docs, mode):\n",
    "\t# create the tokenizer\n",
    "\ttokenizer = Tokenizer()\n",
    "\t# fit the tokenizer on the documents\n",
    "\ttokenizer.fit_on_texts(train_docs)\n",
    "\t# encode training data set\n",
    "\tXtrain = tokenizer.texts_to_matrix(train_docs, mode=mode)\n",
    "\t# encode training data set\n",
    "\tXtest = tokenizer.texts_to_matrix(test_docs, mode=mode)\n",
    "\treturn Xtrain, Xtest"
   ]
  },
  {
   "cell_type": "markdown",
   "metadata": {
    "id": "wxHHjY7eFEDs"
   },
   "source": [
    "We also need a function to evaluate the MLP given a specific encoding of the data.\n",
    "\n",
    "Because neural networks are stochastic, they can produce different results when the same model is fit on the same data. This is mainly because of the random initial weights and the shuffling of patterns during mini-batch gradient descent. This means that any one scoring of a model is unreliable and we should estimate model skill based on an average of multiple runs.\n",
    "\n",
    "The function below, named evaluate_mode(), takes encoded documents and evaluates the MLP by training it on the train set and estimating skill on the test set 30 times and returns a list of the accuracy scores across all of these runs."
   ]
  },
  {
   "cell_type": "code",
   "execution_count": 22,
   "metadata": {
    "id": "DBn24Ek6FE1U",
    "executionInfo": {
     "status": "ok",
     "timestamp": 1646212331130,
     "user_tz": 0,
     "elapsed": 205,
     "user": {
      "displayName": "Christos Peridis",
      "photoUrl": "https://lh3.googleusercontent.com/a/default-user=s64",
      "userId": "01158029486103406188"
     }
    }
   },
   "outputs": [],
   "source": [
    "# evaluate a neural network model\n",
    "def evaluate_mode(Xtrain, ytrain, Xtest, ytest):\n",
    "\tscores = list()\n",
    "\tn_repeats = 30\n",
    "\tn_words = Xtest.shape[1]\n",
    "\tfor i in range(n_repeats):\n",
    "\t\t# define network\n",
    "\t\tmodel = Sequential()\n",
    "\t\tmodel.add(Dense(50, input_shape=(n_words,), activation='relu'))\n",
    "\t\tmodel.add(Dense(1, activation='sigmoid'))\n",
    "\t\t# compile network\n",
    "\t\tmodel.compile(loss='binary_crossentropy', optimizer='adam', metrics=['accuracy'])\n",
    "\t\t# fit network\n",
    "\t\tmodel.fit(Xtrain, ytrain, epochs=50, verbose=2)\n",
    "\t\t# evaluate\n",
    "\t\tloss, acc = model.evaluate(Xtest, ytest, verbose=0)\n",
    "\t\tscores.append(acc)\n",
    "\t\tprint('%d accuracy: %s' % ((i+1), acc))\n",
    "\treturn scores"
   ]
  },
  {
   "cell_type": "markdown",
   "metadata": {
    "id": "rABFM_y3FGN8"
   },
   "source": [
    "We are now ready to evaluate the performance of the 4 different word scoring methods.\n",
    "\n",
    "Pulling all of this together, the complete example is listed below."
   ]
  },
  {
   "cell_type": "code",
   "execution_count": null,
   "metadata": {
    "id": "40J5yiivFHr9",
    "outputId": "291df079-a263-4094-d0e5-b34f45976232",
    "colab": {
     "base_uri": "https://localhost:8080/"
    }
   },
   "outputs": [
    {
     "output_type": "stream",
     "name": "stdout",
     "text": [
      "binary\n",
      "Epoch 1/50\n",
      "57/57 - 1s - loss: 0.4828 - accuracy: 0.7650 - 1s/epoch - 20ms/step\n",
      "Epoch 2/50\n",
      "57/57 - 1s - loss: 0.0622 - accuracy: 0.9944 - 691ms/epoch - 12ms/step\n",
      "Epoch 3/50\n",
      "57/57 - 1s - loss: 0.0160 - accuracy: 1.0000 - 679ms/epoch - 12ms/step\n",
      "Epoch 4/50\n",
      "57/57 - 1s - loss: 0.0070 - accuracy: 1.0000 - 672ms/epoch - 12ms/step\n",
      "Epoch 5/50\n",
      "57/57 - 1s - loss: 0.0036 - accuracy: 1.0000 - 682ms/epoch - 12ms/step\n",
      "Epoch 6/50\n",
      "57/57 - 1s - loss: 0.0021 - accuracy: 1.0000 - 665ms/epoch - 12ms/step\n",
      "Epoch 7/50\n",
      "57/57 - 1s - loss: 0.0014 - accuracy: 1.0000 - 684ms/epoch - 12ms/step\n",
      "Epoch 8/50\n",
      "57/57 - 1s - loss: 9.5497e-04 - accuracy: 1.0000 - 689ms/epoch - 12ms/step\n",
      "Epoch 9/50\n",
      "57/57 - 1s - loss: 6.7616e-04 - accuracy: 1.0000 - 672ms/epoch - 12ms/step\n",
      "Epoch 10/50\n",
      "57/57 - 1s - loss: 4.9734e-04 - accuracy: 1.0000 - 671ms/epoch - 12ms/step\n",
      "Epoch 11/50\n",
      "57/57 - 1s - loss: 3.7998e-04 - accuracy: 1.0000 - 668ms/epoch - 12ms/step\n",
      "Epoch 12/50\n",
      "57/57 - 1s - loss: 2.9938e-04 - accuracy: 1.0000 - 666ms/epoch - 12ms/step\n",
      "Epoch 13/50\n",
      "57/57 - 1s - loss: 2.3989e-04 - accuracy: 1.0000 - 686ms/epoch - 12ms/step\n",
      "Epoch 14/50\n",
      "57/57 - 1s - loss: 1.9642e-04 - accuracy: 1.0000 - 680ms/epoch - 12ms/step\n",
      "Epoch 15/50\n",
      "57/57 - 1s - loss: 1.6322e-04 - accuracy: 1.0000 - 689ms/epoch - 12ms/step\n",
      "Epoch 16/50\n",
      "57/57 - 1s - loss: 1.3749e-04 - accuracy: 1.0000 - 680ms/epoch - 12ms/step\n",
      "Epoch 17/50\n",
      "57/57 - 1s - loss: 1.1743e-04 - accuracy: 1.0000 - 675ms/epoch - 12ms/step\n",
      "Epoch 18/50\n",
      "57/57 - 1s - loss: 1.0140e-04 - accuracy: 1.0000 - 679ms/epoch - 12ms/step\n",
      "Epoch 19/50\n",
      "57/57 - 1s - loss: 8.8366e-05 - accuracy: 1.0000 - 672ms/epoch - 12ms/step\n",
      "Epoch 20/50\n",
      "57/57 - 1s - loss: 7.7655e-05 - accuracy: 1.0000 - 678ms/epoch - 12ms/step\n",
      "Epoch 21/50\n",
      "57/57 - 1s - loss: 6.8617e-05 - accuracy: 1.0000 - 664ms/epoch - 12ms/step\n",
      "Epoch 22/50\n",
      "57/57 - 1s - loss: 6.1138e-05 - accuracy: 1.0000 - 670ms/epoch - 12ms/step\n",
      "Epoch 23/50\n",
      "57/57 - 1s - loss: 5.4719e-05 - accuracy: 1.0000 - 652ms/epoch - 11ms/step\n",
      "Epoch 24/50\n",
      "57/57 - 1s - loss: 4.9173e-05 - accuracy: 1.0000 - 687ms/epoch - 12ms/step\n",
      "Epoch 25/50\n",
      "57/57 - 1s - loss: 4.4426e-05 - accuracy: 1.0000 - 682ms/epoch - 12ms/step\n",
      "Epoch 26/50\n",
      "57/57 - 1s - loss: 4.0373e-05 - accuracy: 1.0000 - 658ms/epoch - 12ms/step\n",
      "Epoch 27/50\n",
      "57/57 - 1s - loss: 3.6760e-05 - accuracy: 1.0000 - 688ms/epoch - 12ms/step\n",
      "Epoch 28/50\n",
      "57/57 - 1s - loss: 3.3634e-05 - accuracy: 1.0000 - 670ms/epoch - 12ms/step\n",
      "Epoch 29/50\n",
      "57/57 - 1s - loss: 3.0837e-05 - accuracy: 1.0000 - 662ms/epoch - 12ms/step\n",
      "Epoch 30/50\n",
      "57/57 - 1s - loss: 2.8392e-05 - accuracy: 1.0000 - 696ms/epoch - 12ms/step\n",
      "Epoch 31/50\n",
      "57/57 - 1s - loss: 2.6220e-05 - accuracy: 1.0000 - 669ms/epoch - 12ms/step\n",
      "Epoch 32/50\n",
      "57/57 - 1s - loss: 2.4234e-05 - accuracy: 1.0000 - 657ms/epoch - 12ms/step\n",
      "Epoch 33/50\n",
      "57/57 - 1s - loss: 2.2486e-05 - accuracy: 1.0000 - 671ms/epoch - 12ms/step\n",
      "Epoch 34/50\n",
      "57/57 - 1s - loss: 2.0879e-05 - accuracy: 1.0000 - 671ms/epoch - 12ms/step\n",
      "Epoch 35/50\n",
      "57/57 - 1s - loss: 1.9453e-05 - accuracy: 1.0000 - 670ms/epoch - 12ms/step\n",
      "Epoch 36/50\n",
      "57/57 - 1s - loss: 1.8120e-05 - accuracy: 1.0000 - 683ms/epoch - 12ms/step\n",
      "Epoch 37/50\n",
      "57/57 - 1s - loss: 1.6925e-05 - accuracy: 1.0000 - 675ms/epoch - 12ms/step\n",
      "Epoch 38/50\n",
      "57/57 - 1s - loss: 1.5953e-05 - accuracy: 1.0000 - 663ms/epoch - 12ms/step\n",
      "Epoch 39/50\n",
      "57/57 - 1s - loss: 1.4827e-05 - accuracy: 1.0000 - 671ms/epoch - 12ms/step\n",
      "Epoch 40/50\n",
      "57/57 - 1s - loss: 1.3912e-05 - accuracy: 1.0000 - 684ms/epoch - 12ms/step\n",
      "Epoch 41/50\n",
      "57/57 - 1s - loss: 1.3102e-05 - accuracy: 1.0000 - 675ms/epoch - 12ms/step\n",
      "Epoch 42/50\n",
      "57/57 - 1s - loss: 1.2304e-05 - accuracy: 1.0000 - 678ms/epoch - 12ms/step\n",
      "Epoch 43/50\n",
      "57/57 - 1s - loss: 1.1594e-05 - accuracy: 1.0000 - 682ms/epoch - 12ms/step\n",
      "Epoch 44/50\n",
      "57/57 - 1s - loss: 1.0925e-05 - accuracy: 1.0000 - 667ms/epoch - 12ms/step\n",
      "Epoch 45/50\n",
      "57/57 - 1s - loss: 1.0305e-05 - accuracy: 1.0000 - 698ms/epoch - 12ms/step\n",
      "Epoch 46/50\n",
      "57/57 - 1s - loss: 9.7572e-06 - accuracy: 1.0000 - 694ms/epoch - 12ms/step\n",
      "Epoch 47/50\n",
      "57/57 - 1s - loss: 9.2188e-06 - accuracy: 1.0000 - 685ms/epoch - 12ms/step\n",
      "Epoch 48/50\n",
      "57/57 - 1s - loss: 8.7269e-06 - accuracy: 1.0000 - 669ms/epoch - 12ms/step\n",
      "Epoch 49/50\n",
      "57/57 - 1s - loss: 8.2699e-06 - accuracy: 1.0000 - 682ms/epoch - 12ms/step\n",
      "Epoch 50/50\n",
      "57/57 - 1s - loss: 7.8471e-06 - accuracy: 1.0000 - 678ms/epoch - 12ms/step\n",
      "1 accuracy: 0.9150000214576721\n",
      "Epoch 1/50\n",
      "57/57 - 1s - loss: 0.4629 - accuracy: 0.7872 - 1s/epoch - 20ms/step\n",
      "Epoch 2/50\n",
      "57/57 - 1s - loss: 0.0473 - accuracy: 0.9961 - 672ms/epoch - 12ms/step\n",
      "Epoch 3/50\n",
      "57/57 - 1s - loss: 0.0153 - accuracy: 1.0000 - 665ms/epoch - 12ms/step\n",
      "Epoch 4/50\n",
      "57/57 - 1s - loss: 0.0078 - accuracy: 1.0000 - 658ms/epoch - 12ms/step\n",
      "Epoch 5/50\n",
      "57/57 - 1s - loss: 0.0049 - accuracy: 1.0000 - 682ms/epoch - 12ms/step\n",
      "Epoch 6/50\n",
      "57/57 - 1s - loss: 0.0032 - accuracy: 1.0000 - 699ms/epoch - 12ms/step\n",
      "Epoch 7/50\n",
      "57/57 - 1s - loss: 0.0021 - accuracy: 1.0000 - 689ms/epoch - 12ms/step\n",
      "Epoch 8/50\n",
      "57/57 - 1s - loss: 0.0015 - accuracy: 1.0000 - 693ms/epoch - 12ms/step\n",
      "Epoch 9/50\n",
      "57/57 - 1s - loss: 0.0011 - accuracy: 1.0000 - 691ms/epoch - 12ms/step\n",
      "Epoch 10/50\n",
      "57/57 - 1s - loss: 8.4810e-04 - accuracy: 1.0000 - 698ms/epoch - 12ms/step\n",
      "Epoch 11/50\n",
      "57/57 - 1s - loss: 6.7042e-04 - accuracy: 1.0000 - 696ms/epoch - 12ms/step\n",
      "Epoch 12/50\n",
      "57/57 - 1s - loss: 5.4277e-04 - accuracy: 1.0000 - 661ms/epoch - 12ms/step\n",
      "Epoch 13/50\n",
      "57/57 - 1s - loss: 4.4918e-04 - accuracy: 1.0000 - 669ms/epoch - 12ms/step\n",
      "Epoch 14/50\n",
      "57/57 - 1s - loss: 3.7713e-04 - accuracy: 1.0000 - 683ms/epoch - 12ms/step\n",
      "Epoch 15/50\n",
      "57/57 - 1s - loss: 3.2067e-04 - accuracy: 1.0000 - 670ms/epoch - 12ms/step\n",
      "Epoch 16/50\n",
      "57/57 - 1s - loss: 2.7539e-04 - accuracy: 1.0000 - 682ms/epoch - 12ms/step\n",
      "Epoch 17/50\n",
      "57/57 - 1s - loss: 2.3950e-04 - accuracy: 1.0000 - 681ms/epoch - 12ms/step\n",
      "Epoch 18/50\n",
      "57/57 - 1s - loss: 2.0923e-04 - accuracy: 1.0000 - 655ms/epoch - 11ms/step\n",
      "Epoch 19/50\n",
      "57/57 - 1s - loss: 1.8386e-04 - accuracy: 1.0000 - 672ms/epoch - 12ms/step\n",
      "Epoch 20/50\n",
      "57/57 - 1s - loss: 1.6231e-04 - accuracy: 1.0000 - 668ms/epoch - 12ms/step\n",
      "Epoch 21/50\n",
      "57/57 - 1s - loss: 1.4324e-04 - accuracy: 1.0000 - 679ms/epoch - 12ms/step\n",
      "Epoch 22/50\n",
      "57/57 - 1s - loss: 1.2693e-04 - accuracy: 1.0000 - 677ms/epoch - 12ms/step\n",
      "Epoch 23/50\n",
      "57/57 - 1s - loss: 1.1263e-04 - accuracy: 1.0000 - 668ms/epoch - 12ms/step\n",
      "Epoch 24/50\n",
      "57/57 - 1s - loss: 9.9486e-05 - accuracy: 1.0000 - 699ms/epoch - 12ms/step\n",
      "Epoch 25/50\n",
      "57/57 - 1s - loss: 8.8208e-05 - accuracy: 1.0000 - 682ms/epoch - 12ms/step\n",
      "Epoch 26/50\n",
      "57/57 - 1s - loss: 7.8396e-05 - accuracy: 1.0000 - 664ms/epoch - 12ms/step\n",
      "Epoch 27/50\n",
      "57/57 - 1s - loss: 6.9660e-05 - accuracy: 1.0000 - 681ms/epoch - 12ms/step\n",
      "Epoch 28/50\n",
      "57/57 - 1s - loss: 6.2063e-05 - accuracy: 1.0000 - 676ms/epoch - 12ms/step\n",
      "Epoch 29/50\n",
      "57/57 - 1s - loss: 5.5736e-05 - accuracy: 1.0000 - 676ms/epoch - 12ms/step\n",
      "Epoch 30/50\n",
      "57/57 - 1s - loss: 4.9996e-05 - accuracy: 1.0000 - 666ms/epoch - 12ms/step\n",
      "Epoch 31/50\n",
      "57/57 - 1s - loss: 4.5090e-05 - accuracy: 1.0000 - 664ms/epoch - 12ms/step\n",
      "Epoch 32/50\n",
      "57/57 - 1s - loss: 4.0788e-05 - accuracy: 1.0000 - 656ms/epoch - 12ms/step\n",
      "Epoch 33/50\n",
      "57/57 - 1s - loss: 3.7048e-05 - accuracy: 1.0000 - 675ms/epoch - 12ms/step\n",
      "Epoch 34/50\n",
      "57/57 - 1s - loss: 3.3805e-05 - accuracy: 1.0000 - 672ms/epoch - 12ms/step\n",
      "Epoch 35/50\n",
      "57/57 - 1s - loss: 3.0859e-05 - accuracy: 1.0000 - 677ms/epoch - 12ms/step\n",
      "Epoch 36/50\n",
      "57/57 - 1s - loss: 2.8544e-05 - accuracy: 1.0000 - 689ms/epoch - 12ms/step\n",
      "Epoch 37/50\n",
      "57/57 - 1s - loss: 2.6020e-05 - accuracy: 1.0000 - 682ms/epoch - 12ms/step\n",
      "Epoch 38/50\n",
      "57/57 - 1s - loss: 2.4011e-05 - accuracy: 1.0000 - 668ms/epoch - 12ms/step\n",
      "Epoch 39/50\n",
      "57/57 - 1s - loss: 2.2459e-05 - accuracy: 1.0000 - 698ms/epoch - 12ms/step\n",
      "Epoch 40/50\n",
      "57/57 - 1s - loss: 2.0562e-05 - accuracy: 1.0000 - 687ms/epoch - 12ms/step\n",
      "Epoch 41/50\n",
      "57/57 - 1s - loss: 1.9115e-05 - accuracy: 1.0000 - 656ms/epoch - 12ms/step\n",
      "Epoch 42/50\n",
      "57/57 - 1s - loss: 1.7797e-05 - accuracy: 1.0000 - 674ms/epoch - 12ms/step\n",
      "Epoch 43/50\n",
      "57/57 - 1s - loss: 1.6604e-05 - accuracy: 1.0000 - 665ms/epoch - 12ms/step\n",
      "Epoch 44/50\n",
      "57/57 - 1s - loss: 1.5510e-05 - accuracy: 1.0000 - 658ms/epoch - 12ms/step\n",
      "Epoch 45/50\n",
      "57/57 - 1s - loss: 1.4530e-05 - accuracy: 1.0000 - 675ms/epoch - 12ms/step\n",
      "Epoch 46/50\n",
      "57/57 - 1s - loss: 1.3629e-05 - accuracy: 1.0000 - 671ms/epoch - 12ms/step\n",
      "Epoch 47/50\n",
      "57/57 - 1s - loss: 1.2794e-05 - accuracy: 1.0000 - 653ms/epoch - 11ms/step\n",
      "Epoch 48/50\n",
      "57/57 - 1s - loss: 1.2040e-05 - accuracy: 1.0000 - 681ms/epoch - 12ms/step\n",
      "Epoch 49/50\n",
      "57/57 - 1s - loss: 1.1335e-05 - accuracy: 1.0000 - 695ms/epoch - 12ms/step\n",
      "Epoch 50/50\n",
      "57/57 - 1s - loss: 1.0697e-05 - accuracy: 1.0000 - 661ms/epoch - 12ms/step\n",
      "2 accuracy: 0.9200000166893005\n",
      "Epoch 1/50\n",
      "57/57 - 1s - loss: 0.4702 - accuracy: 0.7756 - 1s/epoch - 20ms/step\n",
      "Epoch 2/50\n",
      "57/57 - 1s - loss: 0.0542 - accuracy: 0.9939 - 722ms/epoch - 13ms/step\n",
      "Epoch 3/50\n",
      "57/57 - 1s - loss: 0.0175 - accuracy: 1.0000 - 728ms/epoch - 13ms/step\n",
      "Epoch 4/50\n",
      "57/57 - 1s - loss: 0.0088 - accuracy: 1.0000 - 696ms/epoch - 12ms/step\n",
      "Epoch 5/50\n",
      "57/57 - 1s - loss: 0.0054 - accuracy: 1.0000 - 698ms/epoch - 12ms/step\n",
      "Epoch 6/50\n",
      "57/57 - 1s - loss: 0.0037 - accuracy: 1.0000 - 673ms/epoch - 12ms/step\n",
      "Epoch 7/50\n",
      "57/57 - 1s - loss: 0.0027 - accuracy: 1.0000 - 684ms/epoch - 12ms/step\n",
      "Epoch 8/50\n",
      "57/57 - 1s - loss: 0.0020 - accuracy: 1.0000 - 692ms/epoch - 12ms/step\n",
      "Epoch 9/50\n",
      "57/57 - 1s - loss: 0.0016 - accuracy: 1.0000 - 673ms/epoch - 12ms/step\n",
      "Epoch 10/50\n",
      "57/57 - 1s - loss: 0.0013 - accuracy: 1.0000 - 686ms/epoch - 12ms/step\n",
      "Epoch 11/50\n",
      "57/57 - 1s - loss: 0.0011 - accuracy: 1.0000 - 686ms/epoch - 12ms/step\n",
      "Epoch 12/50\n",
      "57/57 - 1s - loss: 8.8343e-04 - accuracy: 1.0000 - 675ms/epoch - 12ms/step\n",
      "Epoch 13/50\n",
      "57/57 - 1s - loss: 7.4918e-04 - accuracy: 1.0000 - 692ms/epoch - 12ms/step\n",
      "Epoch 14/50\n",
      "57/57 - 1s - loss: 6.4374e-04 - accuracy: 1.0000 - 688ms/epoch - 12ms/step\n",
      "Epoch 15/50\n",
      "57/57 - 1s - loss: 5.5797e-04 - accuracy: 1.0000 - 674ms/epoch - 12ms/step\n",
      "Epoch 16/50\n",
      "57/57 - 1s - loss: 4.8793e-04 - accuracy: 1.0000 - 670ms/epoch - 12ms/step\n",
      "Epoch 17/50\n",
      "57/57 - 1s - loss: 4.3058e-04 - accuracy: 1.0000 - 684ms/epoch - 12ms/step\n",
      "Epoch 18/50\n",
      "57/57 - 1s - loss: 3.8185e-04 - accuracy: 1.0000 - 678ms/epoch - 12ms/step\n",
      "Epoch 19/50\n",
      "57/57 - 1s - loss: 3.4051e-04 - accuracy: 1.0000 - 714ms/epoch - 13ms/step\n",
      "Epoch 20/50\n",
      "57/57 - 1s - loss: 3.0582e-04 - accuracy: 1.0000 - 695ms/epoch - 12ms/step\n",
      "Epoch 21/50\n",
      "57/57 - 1s - loss: 2.7517e-04 - accuracy: 1.0000 - 685ms/epoch - 12ms/step\n",
      "Epoch 22/50\n",
      "57/57 - 1s - loss: 2.4904e-04 - accuracy: 1.0000 - 679ms/epoch - 12ms/step\n",
      "Epoch 23/50\n",
      "57/57 - 1s - loss: 2.2578e-04 - accuracy: 1.0000 - 684ms/epoch - 12ms/step\n",
      "Epoch 24/50\n",
      "57/57 - 1s - loss: 2.0434e-04 - accuracy: 1.0000 - 682ms/epoch - 12ms/step\n",
      "Epoch 25/50\n",
      "57/57 - 1s - loss: 1.8393e-04 - accuracy: 1.0000 - 688ms/epoch - 12ms/step\n",
      "Epoch 26/50\n",
      "57/57 - 1s - loss: 1.5975e-04 - accuracy: 1.0000 - 688ms/epoch - 12ms/step\n",
      "Epoch 27/50\n",
      "57/57 - 1s - loss: 1.3540e-04 - accuracy: 1.0000 - 682ms/epoch - 12ms/step\n",
      "Epoch 28/50\n",
      "57/57 - 1s - loss: 1.1586e-04 - accuracy: 1.0000 - 688ms/epoch - 12ms/step\n",
      "Epoch 29/50\n",
      "57/57 - 1s - loss: 9.9418e-05 - accuracy: 1.0000 - 697ms/epoch - 12ms/step\n",
      "Epoch 30/50\n",
      "57/57 - 1s - loss: 8.6343e-05 - accuracy: 1.0000 - 675ms/epoch - 12ms/step\n",
      "Epoch 31/50\n",
      "57/57 - 1s - loss: 7.5642e-05 - accuracy: 1.0000 - 704ms/epoch - 12ms/step\n",
      "Epoch 32/50\n",
      "57/57 - 1s - loss: 6.6600e-05 - accuracy: 1.0000 - 693ms/epoch - 12ms/step\n",
      "Epoch 33/50\n",
      "57/57 - 1s - loss: 5.9255e-05 - accuracy: 1.0000 - 685ms/epoch - 12ms/step\n",
      "Epoch 34/50\n",
      "57/57 - 1s - loss: 5.3122e-05 - accuracy: 1.0000 - 695ms/epoch - 12ms/step\n",
      "Epoch 35/50\n",
      "57/57 - 1s - loss: 4.7956e-05 - accuracy: 1.0000 - 688ms/epoch - 12ms/step\n",
      "Epoch 36/50\n",
      "57/57 - 1s - loss: 4.3643e-05 - accuracy: 1.0000 - 711ms/epoch - 12ms/step\n",
      "Epoch 37/50\n",
      "57/57 - 1s - loss: 3.9910e-05 - accuracy: 1.0000 - 676ms/epoch - 12ms/step\n",
      "Epoch 38/50\n",
      "57/57 - 1s - loss: 3.6663e-05 - accuracy: 1.0000 - 677ms/epoch - 12ms/step\n",
      "Epoch 39/50\n",
      "57/57 - 1s - loss: 3.3855e-05 - accuracy: 1.0000 - 667ms/epoch - 12ms/step\n",
      "Epoch 40/50\n",
      "57/57 - 1s - loss: 3.1153e-05 - accuracy: 1.0000 - 677ms/epoch - 12ms/step\n",
      "Epoch 41/50\n",
      "57/57 - 1s - loss: 2.8667e-05 - accuracy: 1.0000 - 694ms/epoch - 12ms/step\n",
      "Epoch 42/50\n",
      "57/57 - 1s - loss: 2.6564e-05 - accuracy: 1.0000 - 678ms/epoch - 12ms/step\n",
      "Epoch 43/50\n",
      "57/57 - 1s - loss: 2.4759e-05 - accuracy: 1.0000 - 709ms/epoch - 12ms/step\n",
      "Epoch 44/50\n",
      "57/57 - 1s - loss: 2.3104e-05 - accuracy: 1.0000 - 687ms/epoch - 12ms/step\n",
      "Epoch 45/50\n",
      "57/57 - 1s - loss: 2.1647e-05 - accuracy: 1.0000 - 681ms/epoch - 12ms/step\n",
      "Epoch 46/50\n",
      "57/57 - 1s - loss: 2.0309e-05 - accuracy: 1.0000 - 687ms/epoch - 12ms/step\n",
      "Epoch 47/50\n",
      "57/57 - 1s - loss: 1.9085e-05 - accuracy: 1.0000 - 701ms/epoch - 12ms/step\n",
      "Epoch 48/50\n",
      "57/57 - 1s - loss: 1.7969e-05 - accuracy: 1.0000 - 676ms/epoch - 12ms/step\n",
      "Epoch 49/50\n",
      "57/57 - 1s - loss: 1.6950e-05 - accuracy: 1.0000 - 716ms/epoch - 13ms/step\n",
      "Epoch 50/50\n",
      "57/57 - 1s - loss: 1.6018e-05 - accuracy: 1.0000 - 699ms/epoch - 12ms/step\n",
      "3 accuracy: 0.9150000214576721\n",
      "Epoch 1/50\n",
      "57/57 - 1s - loss: 0.4740 - accuracy: 0.7800 - 1s/epoch - 19ms/step\n",
      "Epoch 2/50\n",
      "57/57 - 1s - loss: 0.0638 - accuracy: 0.9906 - 692ms/epoch - 12ms/step\n",
      "Epoch 3/50\n",
      "57/57 - 1s - loss: 0.0175 - accuracy: 1.0000 - 683ms/epoch - 12ms/step\n",
      "Epoch 4/50\n",
      "57/57 - 1s - loss: 0.0091 - accuracy: 1.0000 - 667ms/epoch - 12ms/step\n",
      "Epoch 5/50\n",
      "57/57 - 1s - loss: 0.0058 - accuracy: 1.0000 - 692ms/epoch - 12ms/step\n",
      "Epoch 6/50\n",
      "57/57 - 1s - loss: 0.0041 - accuracy: 1.0000 - 670ms/epoch - 12ms/step\n",
      "Epoch 7/50\n",
      "57/57 - 1s - loss: 0.0030 - accuracy: 1.0000 - 673ms/epoch - 12ms/step\n",
      "Epoch 8/50\n",
      "57/57 - 1s - loss: 0.0023 - accuracy: 1.0000 - 687ms/epoch - 12ms/step\n",
      "Epoch 9/50\n",
      "57/57 - 1s - loss: 0.0018 - accuracy: 1.0000 - 679ms/epoch - 12ms/step\n",
      "Epoch 10/50\n",
      "57/57 - 1s - loss: 0.0013 - accuracy: 1.0000 - 667ms/epoch - 12ms/step\n",
      "Epoch 11/50\n",
      "57/57 - 1s - loss: 9.4440e-04 - accuracy: 1.0000 - 679ms/epoch - 12ms/step\n",
      "Epoch 12/50\n",
      "57/57 - 1s - loss: 6.7930e-04 - accuracy: 1.0000 - 676ms/epoch - 12ms/step\n",
      "Epoch 13/50\n",
      "57/57 - 1s - loss: 5.0825e-04 - accuracy: 1.0000 - 677ms/epoch - 12ms/step\n",
      "Epoch 14/50\n",
      "57/57 - 1s - loss: 3.9756e-04 - accuracy: 1.0000 - 684ms/epoch - 12ms/step\n",
      "Epoch 15/50\n",
      "57/57 - 1s - loss: 3.1856e-04 - accuracy: 1.0000 - 670ms/epoch - 12ms/step\n",
      "Epoch 16/50\n",
      "57/57 - 1s - loss: 2.6373e-04 - accuracy: 1.0000 - 661ms/epoch - 12ms/step\n",
      "Epoch 17/50\n",
      "57/57 - 1s - loss: 2.2272e-04 - accuracy: 1.0000 - 688ms/epoch - 12ms/step\n",
      "Epoch 18/50\n",
      "57/57 - 1s - loss: 1.9075e-04 - accuracy: 1.0000 - 671ms/epoch - 12ms/step\n",
      "Epoch 19/50\n",
      "57/57 - 1s - loss: 1.6590e-04 - accuracy: 1.0000 - 664ms/epoch - 12ms/step\n",
      "Epoch 20/50\n",
      "57/57 - 1s - loss: 1.4593e-04 - accuracy: 1.0000 - 678ms/epoch - 12ms/step\n",
      "Epoch 21/50\n",
      "57/57 - 1s - loss: 1.2875e-04 - accuracy: 1.0000 - 660ms/epoch - 12ms/step\n",
      "Epoch 22/50\n",
      "57/57 - 1s - loss: 1.1491e-04 - accuracy: 1.0000 - 656ms/epoch - 12ms/step\n",
      "Epoch 23/50\n",
      "57/57 - 1s - loss: 1.0335e-04 - accuracy: 1.0000 - 666ms/epoch - 12ms/step\n",
      "Epoch 24/50\n",
      "57/57 - 1s - loss: 9.3557e-05 - accuracy: 1.0000 - 657ms/epoch - 12ms/step\n",
      "Epoch 25/50\n",
      "57/57 - 1s - loss: 8.4964e-05 - accuracy: 1.0000 - 668ms/epoch - 12ms/step\n",
      "Epoch 26/50\n",
      "57/57 - 1s - loss: 7.7746e-05 - accuracy: 1.0000 - 672ms/epoch - 12ms/step\n",
      "Epoch 27/50\n",
      "57/57 - 1s - loss: 7.1164e-05 - accuracy: 1.0000 - 661ms/epoch - 12ms/step\n",
      "Epoch 28/50\n",
      "57/57 - 1s - loss: 6.5611e-05 - accuracy: 1.0000 - 699ms/epoch - 12ms/step\n",
      "Epoch 29/50\n",
      "57/57 - 1s - loss: 6.0427e-05 - accuracy: 1.0000 - 675ms/epoch - 12ms/step\n",
      "Epoch 30/50\n",
      "57/57 - 1s - loss: 5.5903e-05 - accuracy: 1.0000 - 661ms/epoch - 12ms/step\n",
      "Epoch 31/50\n",
      "57/57 - 1s - loss: 5.1811e-05 - accuracy: 1.0000 - 674ms/epoch - 12ms/step\n",
      "Epoch 32/50\n",
      "57/57 - 1s - loss: 4.8215e-05 - accuracy: 1.0000 - 665ms/epoch - 12ms/step\n",
      "Epoch 33/50\n",
      "57/57 - 1s - loss: 4.4950e-05 - accuracy: 1.0000 - 661ms/epoch - 12ms/step\n",
      "Epoch 34/50\n",
      "57/57 - 1s - loss: 4.1992e-05 - accuracy: 1.0000 - 686ms/epoch - 12ms/step\n",
      "Epoch 35/50\n",
      "57/57 - 1s - loss: 3.9293e-05 - accuracy: 1.0000 - 688ms/epoch - 12ms/step\n",
      "Epoch 36/50\n",
      "57/57 - 1s - loss: 3.6807e-05 - accuracy: 1.0000 - 667ms/epoch - 12ms/step\n",
      "Epoch 37/50\n",
      "57/57 - 1s - loss: 3.4567e-05 - accuracy: 1.0000 - 672ms/epoch - 12ms/step\n",
      "Epoch 38/50\n",
      "57/57 - 1s - loss: 3.2444e-05 - accuracy: 1.0000 - 674ms/epoch - 12ms/step\n",
      "Epoch 39/50\n",
      "57/57 - 1s - loss: 3.0565e-05 - accuracy: 1.0000 - 657ms/epoch - 12ms/step\n",
      "Epoch 40/50\n",
      "57/57 - 1s - loss: 2.8792e-05 - accuracy: 1.0000 - 697ms/epoch - 12ms/step\n",
      "Epoch 41/50\n",
      "57/57 - 1s - loss: 2.7177e-05 - accuracy: 1.0000 - 673ms/epoch - 12ms/step\n",
      "Epoch 42/50\n",
      "57/57 - 1s - loss: 2.5684e-05 - accuracy: 1.0000 - 665ms/epoch - 12ms/step\n",
      "Epoch 43/50\n",
      "57/57 - 1s - loss: 2.4261e-05 - accuracy: 1.0000 - 670ms/epoch - 12ms/step\n",
      "Epoch 44/50\n",
      "57/57 - 1s - loss: 2.2453e-05 - accuracy: 1.0000 - 681ms/epoch - 12ms/step\n",
      "Epoch 45/50\n",
      "57/57 - 1s - loss: 2.1273e-05 - accuracy: 1.0000 - 657ms/epoch - 12ms/step\n",
      "Epoch 46/50\n",
      "57/57 - 1s - loss: 2.0231e-05 - accuracy: 1.0000 - 671ms/epoch - 12ms/step\n",
      "Epoch 47/50\n",
      "57/57 - 1s - loss: 1.9244e-05 - accuracy: 1.0000 - 667ms/epoch - 12ms/step\n",
      "Epoch 48/50\n",
      "57/57 - 1s - loss: 1.8294e-05 - accuracy: 1.0000 - 657ms/epoch - 12ms/step\n",
      "Epoch 49/50\n",
      "57/57 - 1s - loss: 1.7418e-05 - accuracy: 1.0000 - 665ms/epoch - 12ms/step\n",
      "Epoch 50/50\n",
      "57/57 - 1s - loss: 1.6551e-05 - accuracy: 1.0000 - 671ms/epoch - 12ms/step\n",
      "4 accuracy: 0.9100000262260437\n",
      "Epoch 1/50\n",
      "57/57 - 1s - loss: 0.4965 - accuracy: 0.7667 - 1s/epoch - 19ms/step\n",
      "Epoch 2/50\n",
      "57/57 - 1s - loss: 0.0761 - accuracy: 0.9928 - 656ms/epoch - 12ms/step\n",
      "Epoch 3/50\n",
      "57/57 - 1s - loss: 0.0210 - accuracy: 1.0000 - 652ms/epoch - 11ms/step\n",
      "Epoch 4/50\n",
      "57/57 - 1s - loss: 0.0098 - accuracy: 1.0000 - 671ms/epoch - 12ms/step\n",
      "Epoch 5/50\n",
      "57/57 - 1s - loss: 0.0053 - accuracy: 1.0000 - 664ms/epoch - 12ms/step\n",
      "Epoch 6/50\n",
      "57/57 - 1s - loss: 0.0030 - accuracy: 1.0000 - 661ms/epoch - 12ms/step\n",
      "Epoch 7/50\n",
      "57/57 - 1s - loss: 0.0019 - accuracy: 1.0000 - 672ms/epoch - 12ms/step\n",
      "Epoch 8/50\n",
      "57/57 - 1s - loss: 0.0013 - accuracy: 1.0000 - 665ms/epoch - 12ms/step\n",
      "Epoch 9/50\n",
      "57/57 - 1s - loss: 9.9336e-04 - accuracy: 1.0000 - 648ms/epoch - 11ms/step\n",
      "Epoch 10/50\n",
      "57/57 - 1s - loss: 7.6109e-04 - accuracy: 1.0000 - 660ms/epoch - 12ms/step\n",
      "Epoch 11/50\n",
      "57/57 - 1s - loss: 6.0428e-04 - accuracy: 1.0000 - 663ms/epoch - 12ms/step\n",
      "Epoch 12/50\n",
      "57/57 - 1s - loss: 4.9120e-04 - accuracy: 1.0000 - 662ms/epoch - 12ms/step\n",
      "Epoch 13/50\n",
      "57/57 - 1s - loss: 4.0897e-04 - accuracy: 1.0000 - 683ms/epoch - 12ms/step\n",
      "Epoch 14/50\n",
      "57/57 - 1s - loss: 3.4580e-04 - accuracy: 1.0000 - 663ms/epoch - 12ms/step\n",
      "Epoch 15/50\n",
      "57/57 - 1s - loss: 2.9741e-04 - accuracy: 1.0000 - 674ms/epoch - 12ms/step\n",
      "Epoch 16/50\n",
      "57/57 - 1s - loss: 2.6328e-04 - accuracy: 1.0000 - 664ms/epoch - 12ms/step\n",
      "Epoch 17/50\n",
      "57/57 - 1s - loss: 2.2874e-04 - accuracy: 1.0000 - 655ms/epoch - 11ms/step\n",
      "Epoch 18/50\n",
      "57/57 - 1s - loss: 2.0258e-04 - accuracy: 1.0000 - 667ms/epoch - 12ms/step\n",
      "Epoch 19/50\n",
      "57/57 - 1s - loss: 1.8145e-04 - accuracy: 1.0000 - 661ms/epoch - 12ms/step\n",
      "Epoch 20/50\n",
      "57/57 - 1s - loss: 1.6340e-04 - accuracy: 1.0000 - 656ms/epoch - 12ms/step\n",
      "Epoch 21/50\n",
      "57/57 - 1s - loss: 1.4752e-04 - accuracy: 1.0000 - 669ms/epoch - 12ms/step\n",
      "Epoch 22/50\n",
      "57/57 - 1s - loss: 1.3426e-04 - accuracy: 1.0000 - 663ms/epoch - 12ms/step\n",
      "Epoch 23/50\n",
      "57/57 - 1s - loss: 1.2243e-04 - accuracy: 1.0000 - 674ms/epoch - 12ms/step\n",
      "Epoch 24/50\n",
      "57/57 - 1s - loss: 1.1222e-04 - accuracy: 1.0000 - 662ms/epoch - 12ms/step\n",
      "Epoch 25/50\n",
      "57/57 - 1s - loss: 1.0303e-04 - accuracy: 1.0000 - 667ms/epoch - 12ms/step\n",
      "Epoch 26/50\n",
      "57/57 - 1s - loss: 9.5172e-05 - accuracy: 1.0000 - 653ms/epoch - 11ms/step\n",
      "Epoch 27/50\n",
      "57/57 - 1s - loss: 8.7922e-05 - accuracy: 1.0000 - 663ms/epoch - 12ms/step\n",
      "Epoch 28/50\n",
      "57/57 - 1s - loss: 8.1463e-05 - accuracy: 1.0000 - 650ms/epoch - 11ms/step\n",
      "Epoch 29/50\n",
      "57/57 - 1s - loss: 7.5876e-05 - accuracy: 1.0000 - 649ms/epoch - 11ms/step\n"
     ]
    }
   ],
   "source": [
    "from numpy import array\n",
    "from string import punctuation\n",
    "from os import listdir\n",
    "from collections import Counter\n",
    "from nltk.corpus import stopwords\n",
    "from tensorflow.keras.preprocessing.text import Tokenizer\n",
    "from tensorflow.keras.models import Sequential\n",
    "from tensorflow.keras.layers import Dense\n",
    "from tensorflow.keras.layers import Dropout\n",
    "from pandas import DataFrame\n",
    "from matplotlib import pyplot\n",
    "\n",
    "\n",
    "# load doc into memory\n",
    "def load_doc(filename):\n",
    "\t# open the file as read only\n",
    "\tfile = open(filename, 'r')\n",
    "\t# read all text\n",
    "\ttext = file.read()\n",
    "\t# close the file\n",
    "\tfile.close()\n",
    "\treturn text\n",
    "\n",
    "# turn a doc into clean tokens\n",
    "def clean_doc(doc):\n",
    "\t# split into tokens by white space\n",
    "\ttokens = doc.split()\n",
    "\t# remove punctuation from each token\n",
    "\ttable = str.maketrans('', '', punctuation)\n",
    "\ttokens = [w.translate(table) for w in tokens]\n",
    "\t# remove remaining tokens that are not alphabetic\n",
    "\ttokens = [word for word in tokens if word.isalpha()]\n",
    "\t# filter out stop words\n",
    "\tstop_words = set(stopwords.words('english'))\n",
    "\ttokens = [w for w in tokens if not w in stop_words]\n",
    "\t# filter out short tokens\n",
    "\ttokens = [word for word in tokens if len(word) > 1]\n",
    "\treturn tokens\n",
    "\n",
    "# load doc, clean and return line of tokens\n",
    "def doc_to_line(filename, vocab):\n",
    "\t# load the doc\n",
    "\tdoc = load_doc(filename)\n",
    "\t# clean doc\n",
    "\ttokens = clean_doc(doc)\n",
    "\t# filter by vocab\n",
    "\ttokens = [w for w in tokens if w in vocab]\n",
    "\treturn ' '.join(tokens)\n",
    "\n",
    "# load all docs in a directory\n",
    "def process_docs(directory, vocab, is_trian):\n",
    "\tlines = list()\n",
    "\t# walk through all files in the folder\n",
    "\tfor filename in listdir(directory):\n",
    "\t\t# skip any reviews in the test set\n",
    "\t\tif is_trian and filename.startswith('cv9'):\n",
    "\t\t\tcontinue\n",
    "\t\tif not is_trian and not filename.startswith('cv9'):\n",
    "\t\t\tcontinue\n",
    "\t\t# create the full path of the file to open\n",
    "\t\tpath = directory + '/' + filename\n",
    "\t\t# load and clean the doc\n",
    "\t\tline = doc_to_line(path, vocab)\n",
    "\t\t# add to list\n",
    "\t\tlines.append(line)\n",
    "\treturn lines\n",
    "\n",
    "# evaluate a neural network model\n",
    "def evaluate_mode(Xtrain, ytrain, Xtest, ytest):\n",
    "\tscores = list()\n",
    "\tn_repeats = 30\n",
    "\tn_words = Xtest.shape[1]\n",
    "\tfor i in range(n_repeats):\n",
    "\t\t# define network\n",
    "\t\tmodel = Sequential()\n",
    "\t\tmodel.add(Dense(50, input_shape=(n_words,), activation='relu'))\n",
    "\t\tmodel.add(Dense(1, activation='sigmoid'))\n",
    "\t\t# compile network\n",
    "\t\tmodel.compile(loss='binary_crossentropy', optimizer='adam', metrics=['accuracy'])\n",
    "\t\t# fit network\n",
    "\t\tmodel.fit(Xtrain, ytrain, epochs=50, verbose=2)\n",
    "\t\t# evaluate\n",
    "\t\tloss, acc = model.evaluate(Xtest, ytest, verbose=0)\n",
    "\t\tscores.append(acc)\n",
    "\t\tprint('%d accuracy: %s' % ((i+1), acc))\n",
    "\treturn scores\n",
    "\n",
    "# prepare bag of words encoding of docs\n",
    "def prepare_data(train_docs, test_docs, mode):\n",
    "\t# create the tokenizer\n",
    "\ttokenizer = Tokenizer()\n",
    "\t# fit the tokenizer on the documents\n",
    "\ttokenizer.fit_on_texts(train_docs)\n",
    "\t# encode training data set\n",
    "\tXtrain = tokenizer.texts_to_matrix(train_docs, mode=mode)\n",
    "\t# encode training data set\n",
    "\tXtest = tokenizer.texts_to_matrix(test_docs, mode=mode)\n",
    "\treturn Xtrain, Xtest\n",
    "\n",
    "# load the vocabulary\n",
    "vocab_filename = 'vocab.txt'\n",
    "vocab = load_doc(vocab_filename)\n",
    "vocab = vocab.split()\n",
    "vocab = set(vocab)\n",
    "# load all training reviews\n",
    "positive_lines = process_docs(data_path + 'txt_sentoken/pos', vocab, True)\n",
    "negative_lines = process_docs(data_path + 'txt_sentoken/neg', vocab, True)\n",
    "train_docs = negative_lines + positive_lines\n",
    "# load all test reviews\n",
    "positive_lines = process_docs(data_path + 'txt_sentoken/pos', vocab, False)\n",
    "negative_lines = process_docs(data_path + 'txt_sentoken/neg', vocab, False)\n",
    "test_docs = negative_lines + positive_lines\n",
    "# prepare labels\n",
    "ytrain = array([0 for _ in range(900)] + [1 for _ in range(900)])\n",
    "ytest = array([0 for _ in range(100)] + [1 for _ in range(100)])\n",
    "\n",
    "modes = ['binary', 'count', 'tfidf', 'freq']\n",
    "results = DataFrame()\n",
    "for mode in modes:\n",
    "\tprint(mode)\n",
    "\t# prepare data for mode\n",
    "\tXtrain, Xtest = prepare_data(train_docs, test_docs, mode)\n",
    "\t# evaluate model on data for mode\n",
    "\tresults[mode] = evaluate_mode(Xtrain, ytrain, Xtest, ytest)\n",
    "# summarize results\n",
    "print(results.describe())\n",
    "# plot results\n",
    "results.boxplot()\n",
    "pyplot.show()"
   ]
  },
  {
   "cell_type": "markdown",
   "metadata": {
    "id": "IPoqBXAEFIv8"
   },
   "source": [
    "Running the example may take a while (about an hour on modern hardware with CPUs, not GPUs).\n",
    "\n",
    "Note: Your results may vary given the stochastic nature of the algorithm or evaluation procedure, or differences in numerical precision. Consider running the example a few times and compare the average outcome.\n",
    "\n",
    "At the end of the run, summary statistics for each word scoring method are provided, summarizing the distribution of model skill scores across each of the 30 runs per mode.\n",
    "\n",
    "We can see that the mean score of both the ‘freq‘ and ‘binary‘ methods appear to be better than ‘count‘ and ‘tfidf‘."
   ]
  },
  {
   "cell_type": "code",
   "execution_count": null,
   "metadata": {
    "id": "ram0IiHHFJsN"
   },
   "outputs": [],
   "source": [
    "          binary     count      tfidf       freq\n",
    "count  30.000000  30.00000  30.000000  30.000000\n",
    "mean    0.915833   0.88900   0.856333   0.908167\n",
    "std     0.009010   0.01012   0.013126   0.002451\n",
    "min     0.900000   0.86500   0.830000   0.905000\n",
    "25%     0.906250   0.88500   0.850000   0.905000\n",
    "50%     0.915000   0.89000   0.857500   0.910000\n",
    "75%     0.920000   0.89500   0.865000   0.910000\n",
    "max     0.935000   0.90500   0.885000   0.910000"
   ]
  },
  {
   "cell_type": "markdown",
   "metadata": {
    "id": "8PuBxS_UFK3l"
   },
   "source": [
    "A box and whisker plot of the results is also presented, summarizing the accuracy distributions per configuration.\n",
    "\n",
    "We can see that the distribution for the ‘freq’ configuration is tight, which is encouraging given that it is also well performing. Additionally, we can see that ‘binary’ achieved the best results with a modest spread and might be the preferred approach for this dataset."
   ]
  },
  {
   "cell_type": "markdown",
   "metadata": {
    "id": "c5WCJOrCFMKl"
   },
   "source": [
    "##**Making a Prediction for New Reviews**\n",
    "\n",
    "Finally, we can use the final model to make predictions for new textual reviews.\n",
    "\n",
    "This is why we wanted the model in the first place.\n",
    "\n",
    "Predicting the sentiment of new reviews involves following the same steps used to prepare the test data. Specifically, loading the text, cleaning the document, filtering tokens by the chosen vocabulary, converting the remaining tokens to a line, encoding it using the Tokenizer, and making a prediction.\n",
    "\n",
    "We can make a prediction of a class value directly with the fit model by calling predict() that will return a value that can be rounded to an integer of 0 for a negative review and 1 for a positive review.\n",
    "\n",
    "All of these steps can be put into a new function called predict_sentiment() that requires the review text, the vocabulary, the tokenizer, and the fit model, as follows:"
   ]
  },
  {
   "cell_type": "code",
   "execution_count": null,
   "metadata": {
    "id": "PpA2fkdOFNtN"
   },
   "outputs": [],
   "source": [
    "# classify a review as negative (0) or positive (1)\n",
    "def predict_sentiment(review, vocab, tokenizer, model):\n",
    "\t# clean\n",
    "\ttokens = clean_doc(review)\n",
    "\t# filter by vocab\n",
    "\ttokens = [w for w in tokens if w in vocab]\n",
    "\t# convert to line\n",
    "\tline = ' '.join(tokens)\n",
    "\t# encode\n",
    "\tencoded = tokenizer.texts_to_matrix([line], mode='freq')\n",
    "\t# prediction\n",
    "\tyhat = model.predict(encoded, verbose=0)\n",
    "\treturn round(yhat[0,0])"
   ]
  },
  {
   "cell_type": "markdown",
   "metadata": {
    "id": "q3JlUObBFO10"
   },
   "source": [
    "We can now make predictions for new review texts.\n",
    "\n",
    "Below is an example with both a clearly positive and a clearly negative review using the simple MLP developed above with the frequency word scoring mode."
   ]
  },
  {
   "cell_type": "code",
   "execution_count": null,
   "metadata": {
    "id": "41xJjyIIFPnk"
   },
   "outputs": [],
   "source": [
    "# test positive text\n",
    "text = 'Best movie ever!'\n",
    "print(predict_sentiment(text, vocab, tokenizer, model))\n",
    "# test negative text\n",
    "text = 'This is a bad movie.'\n",
    "print(predict_sentiment(text, vocab, tokenizer, model))"
   ]
  },
  {
   "cell_type": "markdown",
   "metadata": {
    "id": "tEkh06SfFQrJ"
   },
   "source": [
    "**Note:** Your results may vary given the stochastic nature of the algorithm or evaluation procedure, or differences in numerical precision. Consider running the example a few times and compare the average outcome.\n",
    "\n",
    "Running the example correctly classifies these reviews.\n",
    "\n"
   ]
  },
  {
   "cell_type": "code",
   "execution_count": null,
   "metadata": {
    "id": "WxgtP8nyFRXl"
   },
   "outputs": [],
   "source": [
    "1\n",
    "0"
   ]
  },
  {
   "cell_type": "markdown",
   "metadata": {
    "id": "1glyNbx5FTH1"
   },
   "source": [
    "Ideally, we would fit the model on all available data (train and test) to create a final model and save the model and tokenizer to file so that they can be loaded and used in new software.\n",
    "\n",
    "**Extensions**\n",
    "\n",
    "This section lists some extensions if you are looking to get more out of this tutorial.\n",
    "\n",
    "- Manage Vocabulary. Explore using a larger or smaller vocabulary. Perhaps you can get better performance with a smaller set of words.\n",
    "- Tune the Network Topology. Explore alternate network topologies such as deeper or wider networks. Perhaps you can get better performance with a more suited network.\n",
    "-Use Regularization. Explore the use of regularization techniques, such as dropout. Perhaps you can delay the convergence of the model and achieve better test set performance.\n"
   ]
  }
 ],
 "metadata": {
  "colab": {
   "name": "Copy of BagOfWords2.ipynb",
   "provenance": [
    {
     "file_id": "1dTFUKVnqCJVvQckf0kbfaFNb8kK7bX5y",
     "timestamp": 1646212502388
    }
   ],
   "collapsed_sections": [
    "_iPmQM8f4X4Y",
    "VrMNQANnFCP9",
    "c5WCJOrCFMKl"
   ]
  },
  "kernelspec": {
   "display_name": "Python 3",
   "name": "python3"
  },
  "language_info": {
   "name": "python"
  }
 },
 "nbformat": 4,
 "nbformat_minor": 0
}